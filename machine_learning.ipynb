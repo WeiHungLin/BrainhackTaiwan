{
 "cells": [
  {
   "attachments": {},
   "cell_type": "markdown",
   "metadata": {},
   "source": [
    "# Machine Learning in Python for Neuroimaging\n",
    "\n",
    "This notebook, prepared by Désirée Lussier, is to provide an introduction to machine learning for BrainHack School 2022. It has been adapted from Brainhack Global MTL 2019 traintrack tutorial (https://github.com/BrainhackMTL/global2019-traintrack/blob/master/machine_learning.ipynb) by Désirée Lussier which was modified from the MAIN 2019 training given by Alexadre Hutton (https://github.com/main-training/main-training-nilearn-ml/blob/master/01_intro_ml.ipynb; https://github.com/main-training/main-training-nilearn-ml/blob/master/01_intro_ml_slides.odp) and sklearn tutorial (http://scipy-lectures.org/packages/scikit-learn/index.html).\n",
    "\n",
    "This training is meant to give a brief overview of the basics of machine learning in Python3. For more complete training or other specific examples please see the additional BrainHack School modules (https://school.brainhackmtl.org/modules/) above MAIN courses (https://github.com/main-training) and documentation for Scikit Learn (https://scikit-learn.org/stable/)."
   ]
  },
  {
   "attachments": {},
   "cell_type": "markdown",
   "metadata": {},
   "source": [
    "# Training Outline\n",
    "\n",
    "## Machine Learning with Scikit Learn\n",
    "\n",
    "* Machine learning classification examples\n",
    "* Model evaluation\n",
    "* Model complexity"
   ]
  },
  {
   "attachments": {},
   "cell_type": "markdown",
   "metadata": {},
   "source": [
    "# What is machine learning?\n",
    "In machine learning models with parameters which are optimized according to previously-seen data.\n",
    "\n",
    "Machine learning (ML) can be divided into subcategories:\n",
    "\n",
    "## Supervised Learning\n",
    "We have observations X we want to use to predict Y\n",
    "\n",
    "X: data, features, inputs\n",
    "Y: target, labels, outputs\n",
    "The goal is to find a model which best predicts Y based on X:\n",
    "Y = f(X)\n",
    "\n",
    "Models are further divided:\n",
    "* Classification: Predicting ordinal numbers; determining classes for inputs\n",
    "* Regression: Predicting continuous values\n",
    "\n",
    "## Unsupervised Learning\n",
    "We have observations X\n",
    "The goal is to extract information about X\n",
    "E.g.: finding a representation, cluster the data\n",
    "\n",
    "ML models are typically developed in some variation of:\n",
    "* Parameter training\n",
    "* Model evaluation\n",
    "* Model selection\n",
    "* Model generalization"
   ]
  },
  {
   "cell_type": "code",
   "execution_count": null,
   "metadata": {},
   "outputs": [],
   "source": [
    "\n",
    "\n"
   ]
  }
 ],
 "metadata": {
  "kernelspec": {
   "display_name": "base",
   "language": "python",
   "name": "python3"
  },
  "language_info": {
   "name": "python",
   "version": "3.9.13"
  },
  "orig_nbformat": 4
 },
 "nbformat": 4,
 "nbformat_minor": 2
}
