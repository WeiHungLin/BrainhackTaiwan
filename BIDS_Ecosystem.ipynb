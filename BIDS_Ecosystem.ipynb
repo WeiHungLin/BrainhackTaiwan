{
 "cells": [
  {
   "cell_type": "code",
   "execution_count": 5,
   "metadata": {},
   "outputs": [
    {
     "data": {
      "text/plain": [
       "[<BIDSImageFile filename='/Users/linweihung/Documents/Python/BrainhackTaiwan/ds000228/sub-pixar002/func/sub-pixar002_task-pixar_bold.nii.gz'>]"
      ]
     },
     "execution_count": 5,
     "metadata": {},
     "output_type": "execute_result"
    }
   ],
   "source": [
    "from bids import BIDSLayout\n",
    "layout = BIDSLayout('/Users/linweihung/Documents/Python/BrainhackTaiwan/ds000228')\n",
    "bold = layout.get(subject = 'pixar002', suffix = 'bold', extension = 'nii.gz')\n",
    "bold"
   ]
  },
  {
   "cell_type": "code",
   "execution_count": 6,
   "metadata": {},
   "outputs": [
    {
     "data": {
      "text/plain": [
       "2"
      ]
     },
     "execution_count": 6,
     "metadata": {},
     "output_type": "execute_result"
    }
   ],
   "source": [
    "md = bold[0].get_metadata()\n",
    "md['RepetitionTime']"
   ]
  },
  {
   "cell_type": "code",
   "execution_count": 7,
   "metadata": {},
   "outputs": [
    {
     "data": {
      "text/plain": [
       "{'datatype': 'func',\n",
       " 'extension': '.nii.gz',\n",
       " 'subject': 'pixar002',\n",
       " 'suffix': 'bold',\n",
       " 'task': 'pixar'}"
      ]
     },
     "execution_count": 7,
     "metadata": {},
     "output_type": "execute_result"
    }
   ],
   "source": [
    "bold[0].get_entities()"
   ]
  },
  {
   "cell_type": "code",
   "execution_count": null,
   "metadata": {},
   "outputs": [],
   "source": []
  }
 ],
 "metadata": {
  "kernelspec": {
   "display_name": "base",
   "language": "python",
   "name": "python3"
  },
  "language_info": {
   "codemirror_mode": {
    "name": "ipython",
    "version": 3
   },
   "file_extension": ".py",
   "mimetype": "text/x-python",
   "name": "python",
   "nbconvert_exporter": "python",
   "pygments_lexer": "ipython3",
   "version": "3.9.13"
  },
  "orig_nbformat": 4
 },
 "nbformat": 4,
 "nbformat_minor": 2
}
