{
 "cells": [
  {
   "cell_type": "code",
   "execution_count": 24,
   "metadata": {},
   "outputs": [
    {
     "data": {
      "text/plain": [
       "[<BIDSImageFile filename='/Users/linweihung/Documents/Python/BrainhackTaiwan/ds000228/sub-pixar002/func/sub-pixar002_task-pixar_bold.nii.gz'>]"
      ]
     },
     "execution_count": 24,
     "metadata": {},
     "output_type": "execute_result"
    }
   ],
   "source": [
    "from bids import BIDSLayout\n",
    "layout = BIDSLayout('/Users/linweihung/Documents/Python/BrainhackTaiwan/ds000228')\n",
    "bold = layout.get(subject = 'pixar002', suffix = 'bold', extension = 'nii.gz')\n",
    "bold"
   ]
  },
  {
   "cell_type": "code",
   "execution_count": 25,
   "metadata": {},
   "outputs": [
    {
     "data": {
      "text/plain": [
       "2"
      ]
     },
     "execution_count": 25,
     "metadata": {},
     "output_type": "execute_result"
    }
   ],
   "source": [
    "md = bold[0].get_metadata()\n",
    "md['RepetitionTime']"
   ]
  },
  {
   "cell_type": "code",
   "execution_count": 26,
   "metadata": {},
   "outputs": [
    {
     "data": {
      "text/plain": [
       "{'datatype': 'func',\n",
       " 'extension': '.nii.gz',\n",
       " 'subject': 'pixar002',\n",
       " 'suffix': 'bold',\n",
       " 'task': 'pixar'}"
      ]
     },
     "execution_count": 26,
     "metadata": {},
     "output_type": "execute_result"
    }
   ],
   "source": [
    "bold[0].get_entities()"
   ]
  },
  {
   "cell_type": "code",
   "execution_count": 27,
   "metadata": {},
   "outputs": [
    {
     "data": {
      "text/plain": [
       "[<BIDSJSONFile filename='/Users/linweihung/Documents/Python/BrainhackTaiwan/ds000228/sub-pixar002/anat/sub-pixar002_T1w.json'>,\n",
       " <BIDSImageFile filename='/Users/linweihung/Documents/Python/BrainhackTaiwan/ds000228/sub-pixar002/anat/sub-pixar002_T1w.nii.gz'>,\n",
       " <BIDSJSONFile filename='/Users/linweihung/Documents/Python/BrainhackTaiwan/ds000228/sub-pixar002/func/sub-pixar002_task-pixar_bold.json'>,\n",
       " <BIDSImageFile filename='/Users/linweihung/Documents/Python/BrainhackTaiwan/ds000228/sub-pixar002/func/sub-pixar002_task-pixar_bold.nii.gz'>]"
      ]
     },
     "execution_count": 27,
     "metadata": {},
     "output_type": "execute_result"
    }
   ],
   "source": [
    "layout.get(subject = 'pixar002')"
   ]
  },
  {
   "cell_type": "code",
   "execution_count": null,
   "metadata": {},
   "outputs": [],
   "source": [
    "# Correct image headers from BIDS metadata\n",
    "for bold_series in layout.get(suffix='bold', extension='nii.gz'):\n",
    "    img = bold_series.get_image() #Returns nibabel image object\n",
    "    zooms = img.header.get_zooms()\n",
    "    zooms[3] = bold_series.get_metadata()['RepetitionTime']\n",
    "    img.header.set_zooms(zooms)\n",
    "    img.to_filename(bold_series)"
   ]
  },
  {
   "cell_type": "code",
   "execution_count": 29,
   "metadata": {},
   "outputs": [
    {
     "data": {
      "text/plain": [
       "['pixar001',\n",
       " 'pixar002',\n",
       " 'pixar003',\n",
       " 'pixar004',\n",
       " 'pixar005',\n",
       " 'pixar006',\n",
       " 'pixar007',\n",
       " 'pixar008',\n",
       " 'pixar009',\n",
       " 'pixar010',\n",
       " 'pixar011',\n",
       " 'pixar012',\n",
       " 'pixar013',\n",
       " 'pixar014',\n",
       " 'pixar015',\n",
       " 'pixar016',\n",
       " 'pixar017',\n",
       " 'pixar018',\n",
       " 'pixar019',\n",
       " 'pixar020',\n",
       " 'pixar021',\n",
       " 'pixar022',\n",
       " 'pixar023',\n",
       " 'pixar024',\n",
       " 'pixar025',\n",
       " 'pixar026',\n",
       " 'pixar027',\n",
       " 'pixar028',\n",
       " 'pixar029',\n",
       " 'pixar030',\n",
       " 'pixar031',\n",
       " 'pixar032',\n",
       " 'pixar033',\n",
       " 'pixar034',\n",
       " 'pixar035',\n",
       " 'pixar036',\n",
       " 'pixar037',\n",
       " 'pixar038',\n",
       " 'pixar039',\n",
       " 'pixar040',\n",
       " 'pixar041',\n",
       " 'pixar042',\n",
       " 'pixar043',\n",
       " 'pixar044',\n",
       " 'pixar045',\n",
       " 'pixar046',\n",
       " 'pixar047',\n",
       " 'pixar048',\n",
       " 'pixar049',\n",
       " 'pixar050',\n",
       " 'pixar051',\n",
       " 'pixar052',\n",
       " 'pixar053',\n",
       " 'pixar054',\n",
       " 'pixar055',\n",
       " 'pixar056',\n",
       " 'pixar057',\n",
       " 'pixar058',\n",
       " 'pixar059',\n",
       " 'pixar060',\n",
       " 'pixar061',\n",
       " 'pixar062',\n",
       " 'pixar063',\n",
       " 'pixar064',\n",
       " 'pixar065',\n",
       " 'pixar066',\n",
       " 'pixar067',\n",
       " 'pixar068',\n",
       " 'pixar069',\n",
       " 'pixar070',\n",
       " 'pixar071',\n",
       " 'pixar072',\n",
       " 'pixar073',\n",
       " 'pixar074',\n",
       " 'pixar075',\n",
       " 'pixar076',\n",
       " 'pixar077',\n",
       " 'pixar078',\n",
       " 'pixar079',\n",
       " 'pixar080',\n",
       " 'pixar081',\n",
       " 'pixar082',\n",
       " 'pixar083',\n",
       " 'pixar084',\n",
       " 'pixar085',\n",
       " 'pixar086',\n",
       " 'pixar087',\n",
       " 'pixar088',\n",
       " 'pixar089',\n",
       " 'pixar090',\n",
       " 'pixar091',\n",
       " 'pixar092',\n",
       " 'pixar093',\n",
       " 'pixar094',\n",
       " 'pixar095',\n",
       " 'pixar096',\n",
       " 'pixar097',\n",
       " 'pixar098',\n",
       " 'pixar099',\n",
       " 'pixar100',\n",
       " 'pixar101',\n",
       " 'pixar102',\n",
       " 'pixar103',\n",
       " 'pixar104',\n",
       " 'pixar105',\n",
       " 'pixar106',\n",
       " 'pixar107',\n",
       " 'pixar108',\n",
       " 'pixar109',\n",
       " 'pixar110',\n",
       " 'pixar111',\n",
       " 'pixar112',\n",
       " 'pixar113',\n",
       " 'pixar114',\n",
       " 'pixar115',\n",
       " 'pixar116',\n",
       " 'pixar117',\n",
       " 'pixar118',\n",
       " 'pixar119',\n",
       " 'pixar120',\n",
       " 'pixar121',\n",
       " 'pixar122',\n",
       " 'pixar123',\n",
       " 'pixar124',\n",
       " 'pixar125',\n",
       " 'pixar126',\n",
       " 'pixar127',\n",
       " 'pixar128',\n",
       " 'pixar129',\n",
       " 'pixar130',\n",
       " 'pixar131',\n",
       " 'pixar132',\n",
       " 'pixar133',\n",
       " 'pixar134',\n",
       " 'pixar135',\n",
       " 'pixar136',\n",
       " 'pixar137',\n",
       " 'pixar138',\n",
       " 'pixar139',\n",
       " 'pixar140',\n",
       " 'pixar141',\n",
       " 'pixar142',\n",
       " 'pixar143',\n",
       " 'pixar144',\n",
       " 'pixar145',\n",
       " 'pixar146',\n",
       " 'pixar147',\n",
       " 'pixar148',\n",
       " 'pixar149',\n",
       " 'pixar150',\n",
       " 'pixar151',\n",
       " 'pixar152',\n",
       " 'pixar153',\n",
       " 'pixar154',\n",
       " 'pixar155']"
      ]
     },
     "execution_count": 29,
     "metadata": {},
     "output_type": "execute_result"
    }
   ],
   "source": [
    "layout.get_subjects()"
   ]
  },
  {
   "cell_type": "code",
   "execution_count": 30,
   "metadata": {},
   "outputs": [
    {
     "data": {
      "text/plain": [
       "['pixar']"
      ]
     },
     "execution_count": 30,
     "metadata": {},
     "output_type": "execute_result"
    }
   ],
   "source": [
    "layout.get_tasks()"
   ]
  },
  {
   "cell_type": "code",
   "execution_count": 34,
   "metadata": {},
   "outputs": [
    {
     "data": {
      "text/plain": [
       "['T1w', 'bold']"
      ]
     },
     "execution_count": 34,
     "metadata": {},
     "output_type": "execute_result"
    }
   ],
   "source": [
    "layout.get_suffixes(subject= bids.layout.Query.ANY)"
   ]
  },
  {
   "cell_type": "code",
   "execution_count": 33,
   "metadata": {},
   "outputs": [
    {
     "data": {
      "text/plain": [
       "['task', 'suffix', 'extension', 'subject', 'datatype']"
      ]
     },
     "execution_count": 33,
     "metadata": {},
     "output_type": "execute_result"
    }
   ],
   "source": [
    "list(layout.get_entities(metadata=False))"
   ]
  },
  {
   "cell_type": "code",
   "execution_count": 36,
   "metadata": {},
   "outputs": [
    {
     "data": {
      "text/plain": [
       "dict_keys(['CogAtlasID', 'EchoTime', 'EffectiveEchoSpacing', 'FlipAngle', 'MagneticFieldStrength', 'Manufacturer', 'ManufacturersModelName', 'PhaseEncodingDirection', 'RepetitionTime', 'SliceTiming', 'TaskName', 'dcmmeta_affine', 'dcmmeta_reorient_transform', 'dcmmeta_shape', 'dcmmeta_slice_dim', 'dcmmeta_version', 'global', 'time'])"
      ]
     },
     "execution_count": 36,
     "metadata": {},
     "output_type": "execute_result"
    }
   ],
   "source": [
    "bold_file = layout.get(subject = 'pixar001', suffix = 'bold',\n",
    "                       extension = ['nii', 'nii.gz'])[0]\n",
    "md = bold_file.get_metadata()\n",
    "md.keys()"
   ]
  },
  {
   "cell_type": "code",
   "execution_count": 37,
   "metadata": {},
   "outputs": [
    {
     "data": {
      "text/plain": [
       "0.03"
      ]
     },
     "execution_count": 37,
     "metadata": {},
     "output_type": "execute_result"
    }
   ],
   "source": [
    "md['EchoTime']"
   ]
  },
  {
   "cell_type": "code",
   "execution_count": 38,
   "metadata": {},
   "outputs": [
    {
     "data": {
      "text/plain": [
       "90"
      ]
     },
     "execution_count": 38,
     "metadata": {},
     "output_type": "execute_result"
    }
   ],
   "source": [
    "md['FlipAngle']"
   ]
  },
  {
   "attachments": {},
   "cell_type": "markdown",
   "metadata": {},
   "source": [
    "Many metadata terms are optional in BIDS, so queries that may work smoothly in one dataset, or on one file, may fail on others:"
   ]
  },
  {
   "cell_type": "code",
   "execution_count": null,
   "metadata": {},
   "outputs": [],
   "source": [
    "md['SliceEncodingDirection']"
   ]
  },
  {
   "cell_type": "code",
   "execution_count": 40,
   "metadata": {},
   "outputs": [
    {
     "data": {
      "text/plain": [
       "[7, 90, 89, 84, 88]"
      ]
     },
     "execution_count": 40,
     "metadata": {},
     "output_type": "execute_result"
    }
   ],
   "source": [
    "layout.get_FlipAngles()"
   ]
  },
  {
   "cell_type": "code",
   "execution_count": 41,
   "metadata": {},
   "outputs": [
    {
     "data": {
      "text/plain": [
       "['T1w']"
      ]
     },
     "execution_count": 41,
     "metadata": {},
     "output_type": "execute_result"
    }
   ],
   "source": [
    "layout.get_suffix(FlipAngle = 7)"
   ]
  },
  {
   "cell_type": "code",
   "execution_count": 43,
   "metadata": {},
   "outputs": [
    {
     "data": {
      "text/plain": [
       "['bold']"
      ]
     },
     "execution_count": 43,
     "metadata": {},
     "output_type": "execute_result"
    }
   ],
   "source": [
    "layout.get_suffix(FlipAngle = 88)"
   ]
  },
  {
   "cell_type": "code",
   "execution_count": 44,
   "metadata": {},
   "outputs": [
    {
     "data": {
      "text/plain": [
       "[90, 89, 84, 88]"
      ]
     },
     "execution_count": 44,
     "metadata": {},
     "output_type": "execute_result"
    }
   ],
   "source": [
    "layout.get_FlipAngle(suffix = 'bold')"
   ]
  },
  {
   "cell_type": "code",
   "execution_count": 45,
   "metadata": {},
   "outputs": [
    {
     "data": {
      "text/plain": [
       "{90: 152, 89: 1, 84: 1, 88: 1}"
      ]
     },
     "execution_count": 45,
     "metadata": {},
     "output_type": "execute_result"
    }
   ],
   "source": [
    "{fa: len(layout.get(FlipAngle = fa))\n",
    " for fa in layout.get_FlipAngle(suffix = 'bold')}"
   ]
  },
  {
   "cell_type": "code",
   "execution_count": 46,
   "metadata": {},
   "outputs": [
    {
     "data": {
      "text/plain": [
       "['pixar028']"
      ]
     },
     "execution_count": 46,
     "metadata": {},
     "output_type": "execute_result"
    }
   ],
   "source": [
    "layout.get_subjects(FlipAngle=88)"
   ]
  },
  {
   "cell_type": "code",
   "execution_count": 53,
   "metadata": {},
   "outputs": [],
   "source": [
    "layout = BIDSLayout('/Users/linweihung/Documents/Python/BrainhackTaiwan/ds000224')"
   ]
  },
  {
   "cell_type": "code",
   "execution_count": null,
   "metadata": {},
   "outputs": [],
   "source": []
  }
 ],
 "metadata": {
  "kernelspec": {
   "display_name": "base",
   "language": "python",
   "name": "python3"
  },
  "language_info": {
   "codemirror_mode": {
    "name": "ipython",
    "version": 3
   },
   "file_extension": ".py",
   "mimetype": "text/x-python",
   "name": "python",
   "nbconvert_exporter": "python",
   "pygments_lexer": "ipython3",
   "version": "3.9.13"
  },
  "orig_nbformat": 4
 },
 "nbformat": 4,
 "nbformat_minor": 2
}
