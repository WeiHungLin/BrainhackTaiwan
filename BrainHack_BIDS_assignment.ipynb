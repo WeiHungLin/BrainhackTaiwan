{
 "cells": [
  {
   "attachments": {},
   "cell_type": "markdown",
   "metadata": {},
   "source": [
    "# BrainHack School 2023 - BIDS Module assignment\n",
    "\n",
    "- Download a few subjects (n=3) from the dataset [DS000228](https://openneuro.org/datasets/ds000228/versions/1.1.0) on OpenNeuro. Hint: the dataset is available with DataLad from this [Git repository](https://github.com/OpenNeuroDatasets/ds000228).\n",
    "- Check that the resulting folder is a bids-compliant dataset using the bids validator (using a web browser or a local `npm` install).\n",
    "\n",
    "```\n",
    "Question 1.\n",
    "Did you get any warnings? Explain what they are and whether they are a concern.\n",
    "\n",
    "Your answer:\n",
    "    Yes, there are two warnings. The first one is the json sidecar file was found without a corresponding data file, and this is a big concern. The json sidecar file contains the metadata regarding the data, while the data file such as nii.gz contains the real data. The problem here is that while the json sidecar contains some metadata, there is no corresponding data in the nii.gz file, suggesting that the data is incomplete.\n",
    "    \n",
    "    The other warning is that the tabular file contains custom columns which are not described in a data dictionary. The tabular file describes structure, format, and format of a dataset. However, the tabular contains more descriptive columns, which may potentially cause some confusion or analystic errors.\n",
    "\n",
    "```\n",
    "\n",
    "- Install `pybids`. Use `pybids` to get a list of all BOLD `nii.gz` files for subject `pixar003`. You may want to have a look at the [BIDS documentation](https://bids.neuroimaging.io/) to familiarize yourself with the BIDS standard.\n"
   ]
  },
  {
   "cell_type": "code",
   "execution_count": 1,
   "metadata": {},
   "outputs": [
    {
     "data": {
      "text/plain": [
       "[<BIDSImageFile filename='/Users/linweihung/Documents/Python/BrainhackTaiwan/ds000228/sub-pixar003/func/sub-pixar003_task-pixar_bold.nii.gz'>]"
      ]
     },
     "execution_count": 1,
     "metadata": {},
     "output_type": "execute_result"
    }
   ],
   "source": [
    "# The list of all BOLD nii.gz files for subject pixar003\n",
    "from bids import BIDSLayout\n",
    "import nibabel as nib\n",
    "layout = BIDSLayout('/Users/linweihung/Documents/Python/BrainhackTaiwan/ds000228')\n",
    "bold = layout.get(subject = 'pixar003', suffix = 'bold', extension = 'nii.gz')\n",
    "bold"
   ]
  },
  {
   "attachments": {},
   "cell_type": "markdown",
   "metadata": {},
   "source": [
    "```\n",
    "Question 2.\n",
    "In which folder did you find them? Is it logical?\n",
    "\n",
    "Your answer:\n",
    "    I find the BOLD nii.gz file in the ds000228/sub-pixar003/func/ folder, and it is logical because it is the functional \n",
    "```\n",
    "\n",
    "- Using `pybids`, get a list of the flip angles in `DS000228`.\n",
    "- Clone a Midnight Brain Scan dataset from this [Git repository](https://github.com/OpenNeuroDatasets/ds000224). Use `pybids` to load the `participant.tsv` file as a pandas dataframe in Python.\n",
    "\n",
    "```\n",
    "Show your results in the Jupyter Notebook and send it to us!\n",
    "```"
   ]
  },
  {
   "cell_type": "code",
   "execution_count": 2,
   "metadata": {},
   "outputs": [
    {
     "data": {
      "text/plain": [
       "[7, 90]"
      ]
     },
     "execution_count": 2,
     "metadata": {},
     "output_type": "execute_result"
    }
   ],
   "source": [
    "# The list of the flip angles in DS000228\n",
    "layout.get_FlipAngles()"
   ]
  },
  {
   "cell_type": "code",
   "execution_count": 3,
   "metadata": {},
   "outputs": [
    {
     "data": {
      "text/html": [
       "<div>\n",
       "<style scoped>\n",
       "    .dataframe tbody tr th:only-of-type {\n",
       "        vertical-align: middle;\n",
       "    }\n",
       "\n",
       "    .dataframe tbody tr th {\n",
       "        vertical-align: top;\n",
       "    }\n",
       "\n",
       "    .dataframe thead th {\n",
       "        text-align: right;\n",
       "    }\n",
       "</style>\n",
       "<table border=\"1\" class=\"dataframe\">\n",
       "  <thead>\n",
       "    <tr style=\"text-align: right;\">\n",
       "      <th></th>\n",
       "      <th>participant_id</th>\n",
       "      <th>gender</th>\n",
       "      <th>age</th>\n",
       "      <th>education_degree</th>\n",
       "      <th>education_years</th>\n",
       "    </tr>\n",
       "  </thead>\n",
       "  <tbody>\n",
       "    <tr>\n",
       "      <th>0</th>\n",
       "      <td>sub-MSC01</td>\n",
       "      <td>M</td>\n",
       "      <td>34</td>\n",
       "      <td>Doctorate</td>\n",
       "      <td>22.0</td>\n",
       "    </tr>\n",
       "    <tr>\n",
       "      <th>1</th>\n",
       "      <td>sub-MSC02</td>\n",
       "      <td>M</td>\n",
       "      <td>34</td>\n",
       "      <td>Doctorate</td>\n",
       "      <td>28.0</td>\n",
       "    </tr>\n",
       "    <tr>\n",
       "      <th>2</th>\n",
       "      <td>sub-MSC03</td>\n",
       "      <td>F</td>\n",
       "      <td>29</td>\n",
       "      <td>Masters</td>\n",
       "      <td>18.0</td>\n",
       "    </tr>\n",
       "    <tr>\n",
       "      <th>3</th>\n",
       "      <td>sub-MSC04</td>\n",
       "      <td>F</td>\n",
       "      <td>28</td>\n",
       "      <td>Bachelors</td>\n",
       "      <td>22.0</td>\n",
       "    </tr>\n",
       "    <tr>\n",
       "      <th>4</th>\n",
       "      <td>sub-MSC05</td>\n",
       "      <td>M</td>\n",
       "      <td>27</td>\n",
       "      <td>Bachelors</td>\n",
       "      <td>20.0</td>\n",
       "    </tr>\n",
       "    <tr>\n",
       "      <th>5</th>\n",
       "      <td>sub-MSC06</td>\n",
       "      <td>F</td>\n",
       "      <td>24</td>\n",
       "      <td>Bachelors</td>\n",
       "      <td>17.5</td>\n",
       "    </tr>\n",
       "    <tr>\n",
       "      <th>6</th>\n",
       "      <td>sub-MSC07</td>\n",
       "      <td>F</td>\n",
       "      <td>31</td>\n",
       "      <td>Masters</td>\n",
       "      <td>20.0</td>\n",
       "    </tr>\n",
       "    <tr>\n",
       "      <th>7</th>\n",
       "      <td>sub-MSC08</td>\n",
       "      <td>F</td>\n",
       "      <td>27</td>\n",
       "      <td>Professional</td>\n",
       "      <td>21.0</td>\n",
       "    </tr>\n",
       "    <tr>\n",
       "      <th>8</th>\n",
       "      <td>sub-MSC09</td>\n",
       "      <td>M</td>\n",
       "      <td>26</td>\n",
       "      <td>Professional</td>\n",
       "      <td>19.0</td>\n",
       "    </tr>\n",
       "    <tr>\n",
       "      <th>9</th>\n",
       "      <td>sub-MSC10</td>\n",
       "      <td>M</td>\n",
       "      <td>31</td>\n",
       "      <td>Professional</td>\n",
       "      <td>19.0</td>\n",
       "    </tr>\n",
       "  </tbody>\n",
       "</table>\n",
       "</div>"
      ],
      "text/plain": [
       "  participant_id gender  age education_degree  education_years\n",
       "0      sub-MSC01      M   34        Doctorate             22.0\n",
       "1      sub-MSC02      M   34        Doctorate             28.0\n",
       "2      sub-MSC03      F   29          Masters             18.0\n",
       "3      sub-MSC04      F   28        Bachelors             22.0\n",
       "4      sub-MSC05      M   27        Bachelors             20.0\n",
       "5      sub-MSC06      F   24        Bachelors             17.5\n",
       "6      sub-MSC07      F   31          Masters             20.0\n",
       "7      sub-MSC08      F   27     Professional             21.0\n",
       "8      sub-MSC09      M   26     Professional             19.0\n",
       "9      sub-MSC10      M   31     Professional             19.0"
      ]
     },
     "execution_count": 3,
     "metadata": {},
     "output_type": "execute_result"
    }
   ],
   "source": [
    "layout = BIDSLayout('/Users/linweihung/Documents/Python/BrainhackTaiwan/ds000224')\n",
    "participants = layout.get(suffix = 'participants', extension = 'tsv')[0]\n",
    "participants.get_df()\n"
   ]
  }
 ],
 "metadata": {
  "kernelspec": {
   "display_name": "base",
   "language": "python",
   "name": "python3"
  },
  "language_info": {
   "codemirror_mode": {
    "name": "ipython",
    "version": 3
   },
   "file_extension": ".py",
   "mimetype": "text/x-python",
   "name": "python",
   "nbconvert_exporter": "python",
   "pygments_lexer": "ipython3",
   "version": "3.9.13"
  },
  "orig_nbformat": 4
 },
 "nbformat": 4,
 "nbformat_minor": 2
}
