{
 "cells": [
  {
   "attachments": {},
   "cell_type": "markdown",
   "metadata": {},
   "source": [
    "# BrainHack School 2023 - BIDS Module assignment\n",
    "\n",
    "- Download a few subjects (n=3) from the dataset [DS000228](https://openneuro.org/datasets/ds000228/versions/1.1.0) on OpenNeuro. Hint: the dataset is available with DataLad from this [Git repository](https://github.com/OpenNeuroDatasets/ds000228).\n",
    "- Check that the resulting folder is a bids-compliant dataset using the bids validator (using a web browser or a local `npm` install).\n",
    "\n",
    "```\n",
    "Question 1.\n",
    "Did you get any warnings? Explain what they are and whether they are a concern.\n",
    "\n",
    "Your answer:\n",
    "    \n",
    "\n",
    "```\n",
    "\n",
    "- Install `pybids`. Use `pybids` to get a list of all BOLD `nii.gz` files for subject `pixar003`. You may want to have a look at the [BIDS documentation](https://bids.neuroimaging.io/) to familiarize yourself with the BIDS standard.\n",
    "\n",
    "```\n",
    "Question 2.\n",
    "In which folder did you find them? Is it logical?\n",
    "\n",
    "Your answer:\n",
    "    I find the BOLD nii.gz file in the ds000228/sub-pixar003/func/ folder, and it is logical because it is the functional \n",
    "```\n",
    "\n",
    "- Using `pybids`, get a list of the flip angles in `DS000228`.\n",
    "- Clone a Midnight Brain Scan dataset from this [Git repository](https://github.com/OpenNeuroDatasets/ds000224). Use `pybids` to load the `participant.tsv` file as a pandas dataframe in Python.\n",
    "\n",
    "```\n",
    "Show your results in the Jupyter Notebook and send it to us!\n",
    "```"
   ]
  },
  {
   "cell_type": "code",
   "execution_count": 2,
   "metadata": {},
   "outputs": [
    {
     "data": {
      "text/plain": [
       "[<BIDSImageFile filename='/Users/linweihung/Documents/Python/BrainhackTaiwan/ds000228/sub-pixar003/func/sub-pixar003_task-pixar_bold.nii.gz'>]"
      ]
     },
     "execution_count": 2,
     "metadata": {},
     "output_type": "execute_result"
    }
   ],
   "source": [
    "# The list of all BOLD nii.gz files for subject pixar003\n",
    "from bids import BIDSLayout\n",
    "import nibabel as nib\n",
    "layout = BIDSLayout('/Users/linweihung/Documents/Python/BrainhackTaiwan/ds000228')\n",
    "bold = layout.get(subject = 'pixar003', suffix = 'bold', extension = 'nii.gz')\n",
    "bold"
   ]
  },
  {
   "cell_type": "code",
   "execution_count": 3,
   "metadata": {},
   "outputs": [
    {
     "data": {
      "text/plain": [
       "[7, 90]"
      ]
     },
     "execution_count": 3,
     "metadata": {},
     "output_type": "execute_result"
    }
   ],
   "source": [
    "# The list of the flip angles in DS000228\n",
    "layout.get_FlipAngles()"
   ]
  },
  {
   "cell_type": "code",
   "execution_count": null,
   "metadata": {},
   "outputs": [],
   "source": []
  }
 ],
 "metadata": {
  "kernelspec": {
   "display_name": "base",
   "language": "python",
   "name": "python3"
  },
  "language_info": {
   "codemirror_mode": {
    "name": "ipython",
    "version": 3
   },
   "file_extension": ".py",
   "mimetype": "text/x-python",
   "name": "python",
   "nbconvert_exporter": "python",
   "pygments_lexer": "ipython3",
   "version": "3.9.13"
  },
  "orig_nbformat": 4
 },
 "nbformat": 4,
 "nbformat_minor": 2
}
