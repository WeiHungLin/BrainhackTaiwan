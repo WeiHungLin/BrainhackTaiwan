{
 "cells": [
  {
   "attachments": {},
   "cell_type": "markdown",
   "metadata": {
    "slideshow": {
     "slide_type": "slide"
    }
   },
   "source": [
    " ![Title image](./title.jpg \"Title\")"
   ]
  },
  {
   "attachments": {},
   "cell_type": "markdown",
   "metadata": {
    "slideshow": {
     "slide_type": "slide"
    }
   },
   "source": [
    "# Week 1 strikes back\n",
    "\n",
    "In Week 1, you learned why and how to use Docker and Singularity containers during [Peer's wonderful lecture](https://github.com/neurodatascience/course-materials-2020/blob/master/lectures/12-may/02-intro-to-containerization/neurodatascience_virtualization_2020.pdf). Now you can't work without containers, they're really magic! \n",
    "\n",
    "![CommitStrip](https://www.commitstrip.com/wp-content/uploads/2017/02/Strip-Ou-sont-les-tests-unitaires-english650-final.jpg \"It's magic\")\n",
    "\n",
    "(only the last box of this is actually relevant, the first ones are a good intro to tomorrow's presentation)\n"
   ]
  },
  {
   "attachments": {},
   "cell_type": "markdown",
   "metadata": {
    "slideshow": {
     "slide_type": "slide"
    }
   },
   "source": [
    "# Goals\n",
    "* Get to know more about the system (file system and processes)\n",
    "* Understand that containers aren't magic\n",
    "\n",
    "# Method\n",
    "\n",
    "* We will build \"mocker\", a tiny container engine\n",
    "* This guy will help us a lot\n",
    "\n",
    "<a href=\"https://www.kernel.org\"><img src=\"https://upload.wikimedia.org/wikipedia/commons/thumb/3/35/Tux.svg/440px-Tux.svg.png\" alt=\"Tux\" style=\"width: 100px;\"/></a>\n",
    "\n",
    "People usually call it \"the system\" or \"the kernel\", you can get its real name by typing `uname -a` in a terminal:"
   ]
  },
  {
   "cell_type": "code",
   "execution_count": 1,
   "metadata": {
    "slideshow": {
     "slide_type": "fragment"
    }
   },
   "outputs": [
    {
     "name": "stdout",
     "output_type": "stream",
     "text": [
      "Darwin Macintosh-6.local 22.3.0 Darwin Kernel Version 22.3.0: Mon Jan 30 20:39:35 PST 2023; root:xnu-8792.81.3~2/RELEASE_ARM64_T8103 x86_64\n"
     ]
    }
   ],
   "source": [
    "!uname -a"
   ]
  },
  {
   "attachments": {},
   "cell_type": "markdown",
   "metadata": {
    "slideshow": {
     "slide_type": "fragment"
    }
   },
   "source": [
    "(its conversation is limited, it only knows \"system calls\" such as `open`)\n",
    "\n",
    "\n",
    "# Note\n",
    "This notebook mostly uses `bash` commands, some of them requiring `sudo`, some of them being interactive. In this presentation we'll mostly run them in a terminal. _Remove the leading ! before copy-pasting the commands._"
   ]
  },
  {
   "attachments": {},
   "cell_type": "markdown",
   "metadata": {
    "slideshow": {
     "slide_type": "slide"
    }
   },
   "source": [
    "# Resources\n",
    "\n",
    "![How containers work](https://jvns.ca/images/containers-cover.jpg \"https://wizardzines.com/zines/containers\")\n",
    "\n",
    "(available at https://wizardzines.com/zines/containers for $12)\n",
    "* [\"What even is a container?\"](https://jvns.ca/blog/2016/10/10/what-even-is-a-container),  Julia Evans\n",
    "* `man unshare`, `man cgroups`"
   ]
  },
  {
   "attachments": {},
   "cell_type": "markdown",
   "metadata": {
    "slideshow": {
     "slide_type": "slide"
    }
   },
   "source": [
    "# __mocker v0.1__: replacing root directories with chroot\n",
    "\n",
    "\n",
    "## File system mounts\n",
    "\n",
    "A file system provides a usable interface to storage devices, organized in files and directories. In Linux, file systems need to be appended, a.k.a _mounted_, under the `/` \"root\" directory structure to be accessible. The location at which a file system is mounted is called a _mount point_. Mount points can be listed using command `df`:"
   ]
  },
  {
   "cell_type": "code",
   "execution_count": 3,
   "metadata": {
    "slideshow": {
     "slide_type": "fragment"
    }
   },
   "outputs": [
    {
     "name": "stdout",
     "output_type": "stream",
     "text": [
      "Filesystem       Size   Used  Avail Capacity iused     ifree %iused  Mounted on\n",
      "/dev/disk3s1s1  228Gi   12Gi   85Gi    13%  349475 891041520    0%   /\n",
      "devfs           201Ki  201Ki    0Bi   100%     696         0  100%   /dev\n",
      "/dev/disk3s6    228Gi  3.0Gi   85Gi     4%       3 891041520    0%   /System/Volumes/VM\n",
      "/dev/disk3s2    228Gi  9.2Gi   85Gi    10%    1213 891041520    0%   /System/Volumes/Preboot\n",
      "/dev/disk3s4    228Gi  605Mi   85Gi     1%     278 891041520    0%   /System/Volumes/Update\n",
      "/dev/disk1s2    500Mi  6.0Mi  483Mi     2%       3   4941040    0%   /System/Volumes/xarts\n",
      "/dev/disk1s1    500Mi  6.1Mi  483Mi     2%      25   4941040    0%   /System/Volumes/iSCPreboot\n",
      "/dev/disk1s3    500Mi  628Ki  483Mi     1%      39   4941040    0%   /System/Volumes/Hardware\n",
      "/dev/disk3s5    228Gi  117Gi   85Gi    58% 1913711 891041520    0%   /System/Volumes/Data\n",
      "map auto_home     0Bi    0Bi    0Bi   100%       0         0  100%   /System/Volumes/Data/home\n",
      "/dev/disk3s1    228Gi   12Gi   85Gi    13%  356095 891041520    0%   /System/Volumes/Update/mnt1\n"
     ]
    }
   ],
   "source": [
    "!df -h"
   ]
  },
  {
   "attachments": {},
   "cell_type": "markdown",
   "metadata": {
    "slideshow": {
     "slide_type": "slide"
    }
   },
   "source": [
    "## File system types\n",
    "\n",
    "There are different types of file systems, such as:\n",
    "* `tmpfs`: in-memory file system, fast but usually small, doesn't survive reboot.\n",
    "* `ext4`: current default for Linux hard disks\n",
    "* `vfat`: legacy\n",
    "* `squashfs`: a compressed file-system, used in particular by Singularity\n",
    "* `nfs`: network file system, to mount files from  remote servers\n",
    "* `lustre`: another network file system, used in HPC centers"
   ]
  },
  {
   "attachments": {},
   "cell_type": "markdown",
   "metadata": {
    "slideshow": {
     "slide_type": "fragment"
    }
   },
   "source": [
    "OK, this is not _really_ relevant to containers but I thought you might be interested :)"
   ]
  },
  {
   "attachments": {},
   "cell_type": "markdown",
   "metadata": {
    "slideshow": {
     "slide_type": "fragment"
    }
   },
   "source": [
    "Some directories in the file system are particularly important for applications:\n",
    "* `/bin`: contains many useful programs such as `ls`, `cd`, etc\n",
    "* `/etc`: contains configuration files\n",
    "* `/lib`: contains software libraries\n",
    "* `/proc`: contains information about processes, mounts, etc"
   ]
  },
  {
   "attachments": {},
   "cell_type": "markdown",
   "metadata": {
    "slideshow": {
     "slide_type": "slide"
    }
   },
   "source": [
    "## chroot: changing the root directory\n",
    "\n",
    "chroot is a system call to change the root directory from `/` to a custom directory. It gives the illusion that a complete new file hierarchy was deployed, in isolation from the initial environment. We will use `chroot` to provide the illusion that our computer runs under a different root directory. Programs executed in this environment will come from the new root (`/bin`), will use different libraries (`/lib`), and will use different configurations (`/etc`).\n",
    "\n",
    "First, let's download a new file system hierarchy and pretend that it's our container image:"
   ]
  },
  {
   "cell_type": "code",
   "execution_count": 1,
   "metadata": {
    "slideshow": {
     "slide_type": "fragment"
    }
   },
   "outputs": [
    {
     "name": "stdout",
     "output_type": "stream",
     "text": [
      "--2023-05-08 13:30:01--  http://bit.ly/fish-container\n",
      "Resolving bit.ly (bit.ly)... 67.199.248.10, 67.199.248.11\n",
      "Connecting to bit.ly (bit.ly)|67.199.248.10|:80... connected.\n",
      "HTTP request sent, awaiting response... 301 Moved Permanently\n",
      "Location: https://gist.github.com/jvns/1e8b2dcc2c9afac04acc4701112e3512/raw/5ef7f88cd089a70605b301cdd43f388d728f6817/fish.tar [following]\n",
      "--2023-05-08 13:30:01--  https://gist.github.com/jvns/1e8b2dcc2c9afac04acc4701112e3512/raw/5ef7f88cd089a70605b301cdd43f388d728f6817/fish.tar\n",
      "Resolving gist.github.com (gist.github.com)... 20.27.177.113\n",
      "Connecting to gist.github.com (gist.github.com)|20.27.177.113|:443... connected.\n",
      "HTTP request sent, awaiting response... 301 Moved Permanently\n",
      "Location: https://gist.githubusercontent.com/jvns/1e8b2dcc2c9afac04acc4701112e3512/raw/5ef7f88cd089a70605b301cdd43f388d728f6817/fish.tar [following]\n",
      "--2023-05-08 13:30:03--  https://gist.githubusercontent.com/jvns/1e8b2dcc2c9afac04acc4701112e3512/raw/5ef7f88cd089a70605b301cdd43f388d728f6817/fish.tar\n",
      "Resolving gist.githubusercontent.com (gist.githubusercontent.com)... 185.199.111.133, 185.199.108.133, 185.199.110.133, ...\n",
      "Connecting to gist.githubusercontent.com (gist.githubusercontent.com)|185.199.111.133|:443... connected.\n",
      "HTTP request sent, awaiting response... 200 OK\n",
      "Length: 16999936 (16M) [application/octet-stream]\n",
      "Saving to: ‘fish.tar’\n",
      "\n",
      "fish.tar            100%[===================>]  16.21M  1.05MB/s    in 20s     \n",
      "\n",
      "2023-05-08 13:30:24 (835 KB/s) - ‘fish.tar’ saved [16999936/16999936]\n",
      "\n",
      "usr/share/terminfo/l/lft-pc850: Can't create 'usr/share/terminfo/l/lft-pc850'\n",
      "usr/share/terminfo/n/ncr260vt300wpp: Can't create 'usr/share/terminfo/n/ncr260vt300wpp'\n",
      "usr/share/terminfo/n/ncrvt100wpp: Can't create 'usr/share/terminfo/n/ncrvt100wpp'\n",
      "usr/share/terminfo/p/p12: Can't create 'usr/share/terminfo/p/p12'\n",
      "usr/share/terminfo/p/p12-m: Can't create 'usr/share/terminfo/p/p12-m'\n",
      "usr/share/terminfo/p/p12-m-w: Can't create 'usr/share/terminfo/p/p12-m-w'\n",
      "usr/share/terminfo/p/p12-w: Can't create 'usr/share/terminfo/p/p12-w'\n",
      "usr/share/terminfo/p/p14: Can't create 'usr/share/terminfo/p/p14'\n",
      "usr/share/terminfo/p/p14-m: Can't create 'usr/share/terminfo/p/p14-m'\n",
      "usr/share/terminfo/p/p14-m-w: Can't create 'usr/share/terminfo/p/p14-m-w'\n",
      "usr/share/terminfo/p/p14-w: Can't create 'usr/share/terminfo/p/p14-w'\n",
      "usr/share/terminfo/p/p4: Can't create 'usr/share/terminfo/p/p4'\n",
      "usr/share/terminfo/p/p5: Can't create 'usr/share/terminfo/p/p5'\n",
      "usr/share/terminfo/p/p7: Can't create 'usr/share/terminfo/p/p7'\n",
      "usr/share/terminfo/p/p8: Can't create 'usr/share/terminfo/p/p8'\n",
      "usr/share/terminfo/p/p8-w: Can't create 'usr/share/terminfo/p/p8-w'\n",
      "usr/share/terminfo/p/p9: Can't create 'usr/share/terminfo/p/p9'\n",
      "usr/share/terminfo/p/p9-8: Can't create 'usr/share/terminfo/p/p9-8'\n",
      "usr/share/terminfo/p/p9-8-w: Can't create 'usr/share/terminfo/p/p9-8-w'\n",
      "usr/share/terminfo/p/p9-w: Can't create 'usr/share/terminfo/p/p9-w'\n",
      "usr/share/terminfo/p/prism12: Hard-link target 'usr/share/terminfo/P/P12' does not exist.\n",
      "usr/share/terminfo/p/prism12-m: Hard-link target 'usr/share/terminfo/P/P12-M' does not exist.\n",
      "usr/share/terminfo/p/prism12-m-w: Hard-link target 'usr/share/terminfo/P/P12-M-W' does not exist.\n",
      "usr/share/terminfo/p/prism12-w: Hard-link target 'usr/share/terminfo/P/P12-W' does not exist.\n",
      "usr/share/terminfo/p/prism14: Hard-link target 'usr/share/terminfo/P/P14' does not exist.\n",
      "usr/share/terminfo/p/prism14-m: Hard-link target 'usr/share/terminfo/P/P14-M' does not exist.\n",
      "usr/share/terminfo/p/prism14-m-w: Hard-link target 'usr/share/terminfo/P/P14-M-W' does not exist.\n",
      "usr/share/terminfo/p/prism14-w: Hard-link target 'usr/share/terminfo/P/P14-W' does not exist.\n",
      "usr/share/terminfo/p/prism4: Hard-link target 'usr/share/terminfo/P/P4' does not exist.\n",
      "usr/share/terminfo/p/prism5: Hard-link target 'usr/share/terminfo/P/P5' does not exist.\n",
      "usr/share/terminfo/p/prism7: Hard-link target 'usr/share/terminfo/P/P7' does not exist.\n",
      "usr/share/terminfo/p/prism8: Hard-link target 'usr/share/terminfo/P/P8' does not exist.\n",
      "usr/share/terminfo/p/prism8-w: Hard-link target 'usr/share/terminfo/P/P8-W' does not exist.\n",
      "usr/share/terminfo/p/prism9: Hard-link target 'usr/share/terminfo/P/P9' does not exist.\n",
      "usr/share/terminfo/p/prism9-8: Hard-link target 'usr/share/terminfo/P/P9-8' does not exist.\n",
      "usr/share/terminfo/p/prism9-8-w: Hard-link target 'usr/share/terminfo/P/P9-8-W' does not exist.\n",
      "usr/share/terminfo/p/prism9-w: Hard-link target 'usr/share/terminfo/P/P9-W' does not exist.\n",
      "tar: Error exit delayed from previous errors.\n"
     ]
    }
   ],
   "source": [
    "!wget bit.ly/fish-container -O fish.tar # download a tar archive file containing a full directory hierarchy\n",
    "!mkdir -p container-root && (cd container-root && tar xf ../fish.tar) # unextract archive in directory container-root\n"
   ]
  },
  {
   "attachments": {},
   "cell_type": "markdown",
   "metadata": {
    "slideshow": {
     "slide_type": "slide"
    }
   },
   "source": [
    "We can now use chroot to change our root file system to the root of our container image: "
   ]
  },
  {
   "cell_type": "code",
   "execution_count": 4,
   "metadata": {
    "slideshow": {
     "slide_type": "fragment"
    }
   },
   "outputs": [
    {
     "name": "stdout",
     "output_type": "stream",
     "text": [
      "Password:\n",
      "sudo: a password is required\n"
     ]
    }
   ],
   "source": [
    "!sudo chroot $PWD/container-root /bin/sh -c \"/bin/mount -t proc proc /proc && /bin/sh\"\n"
   ]
  },
  {
   "attachments": {},
   "cell_type": "markdown",
   "metadata": {
    "slideshow": {
     "slide_type": "fragment"
    }
   },
   "source": [
    "It looks like we're running on a different computer! Changing the root directory is a key concept of containers. "
   ]
  },
  {
   "attachments": {},
   "cell_type": "markdown",
   "metadata": {
    "slideshow": {
     "slide_type": "slide"
    }
   },
   "source": [
    "# __mocker v0.2__: isolating processes\n",
    "\n",
    "There are in fact many indices showing that the \"chrooted\" environment is still running on the \"host\" computer. To start with, we can still see and interact with other programs, or _processes_ on the host.\n",
    "\n",
    "## Processes\n",
    "A process is a running program. It has a number (ID) and is often associated with a command. Current processes can be listed with command `ps`. `top` and `htop` are other useful commands to list proceses."
   ]
  },
  {
   "cell_type": "code",
   "execution_count": 5,
   "metadata": {
    "slideshow": {
     "slide_type": "fragment"
    }
   },
   "outputs": [
    {
     "name": "stdout",
     "output_type": "stream",
     "text": [
      "USER               PID  %CPU %MEM      VSZ    RSS   TT  STAT STARTED      TIME COMMAND\n",
      "_windowserver      165  29.4  0.8 412154320  67792   ??  Ss   Sat01PM 122:59.28 /System/Library/\n",
      "linweihung       24611  26.6  2.4 1594772560 199600   ??  S    11:44AM   2:04.20 /Applications/Vi\n",
      "linweihung       24593   9.0  1.9 499712400 155968   ??  Ss   11:42AM   2:44.91 /System/Library/\n",
      "linweihung        2254   8.7  0.4 413824672  33856   ??  Ss   Sat01PM   6:25.03 /System/Library/\n",
      "linweihung       12975   5.6  0.4 442372944  36144   ??  S     5:19PM   7:21.72 /Applications/Vi\n",
      "linweihung        7878   3.1  1.5 499649184 124384   ??  Ss   Sun12AM   2:52.24 /System/Library/\n",
      "linweihung       24939   3.0  0.2 35005932  14316   ??  S    11:45AM   0:06.91 /Users/linweihun\n",
      "root               196   1.9  0.2 408278896  15488   ??  Ss   Sat01PM  30:23.47 /usr/libexec/air\n",
      "root               108   1.9  0.1 408271648   9328   ??  Ss   Sat01PM  10:44.56 /usr/libexec/con\n",
      "_driverkit         305   1.8  0.0 408539248   1728   ??  Ss   Sat01PM   4:29.94 /System/Library/\n",
      "linweihung       25271   1.6  0.5 1593613344  39168   ??  S    11:55AM   0:24.80 /Applications/Si\n",
      "root             22221   1.4  0.4 410130080  34944   ??  Rs    7:13AM   9:00.53 /Library/SystemE\n",
      "linweihung       12972   1.3  1.0 1585739856  81584   ??  S     5:19PM  10:16.45 /Applications/Vi\n",
      "linweihung       24697   1.2  0.8 1584075200  64208   ??  S    11:45AM   0:26.95 /Applications/Vi\n",
      "_mdnsresponder     245   1.2  0.1 408272624   7840   ??  Ss   Sat01PM   5:06.31 /usr/sbin/mDNSRe\n",
      "linweihung         815   1.1  0.2 442546896  16320   ??  S    Sat01PM  56:25.37 /Applications/Si\n",
      "_coreaudiod        185   0.8  0.1 409085504  11040   ??  Ss   Sat01PM  39:57.42 /usr/sbin/coreau\n",
      "linweihung         685   0.7  1.0 442907200  82704   ??  S    Sat01PM  38:27.70 /Applications/Si\n",
      "linweihung       14662   0.7  0.5 516484704  44160   ??  Ss    5:55PM   8:09.21 /System/Library/\n",
      "linweihung       25142   0.7  0.1 34976748  11704   ??  S    11:50AM   1:15.24 /Library/Framewo\n",
      "linweihung        2114   0.7  0.6 410788032  52240   ??  S    Sat01PM  35:25.25 /Applications/LI\n",
      "root               335   0.6  0.4 412272384  37152   ??  Ss   Sat01PM   8:27.50 /System/Library/\n",
      "linweihung         687   0.5  1.0 415285664  83904   ??  S    Sat01PM  15:07.53 /System/Volumes/\n",
      "linweihung         951   0.4  0.4 409758480  31152   ??  R    Sat01PM  56:18.13 /Applications/St\n",
      "linweihung        2549   0.3  0.0 409742768   3776   ??  Ss   Sat02PM   5:00.51 /Applications/LI\n",
      "linweihung       24712   0.3  0.4 1592456592  37120   ??  S    11:45AM   0:17.08 /Applications/Vi\n",
      "root               135   0.3  0.1 408287216   9712   ??  Ss   Sat01PM   2:07.69 /usr/libexec/ope\n",
      "linweihung        1391   0.3  0.1 409730992   4480   ??  S    Sat01PM   2:10.30 /Applications/Ad\n",
      "linweihung       21245   0.3  0.4 1597926704  34256   ??  S     6:56AM   0:54.88 /Applications/Si\n",
      "linweihung        1101   0.2  0.1 409676160   6576   ??  S    Sat01PM   0:26.50 /Library/Applica\n",
      "linweihung        1064   0.2  0.1 409689728   6656   ??  S    Sat01PM   1:52.61 /Applications/Ut\n",
      "root             14949   0.2  0.1 408265952   4912   ??  Ss    7:10PM   1:20.87 /System/Library/\n",
      "root               124   0.1  0.2 408563200  14992   ??  Ss   Sat01PM   8:39.40 /System/Library/\n",
      "linweihung       23355   0.1  0.2 409132128  19280   ??  Ss    8:47AM   0:27.10 /System/Library/\n",
      "linweihung       13865   0.1  0.3 409128880  25680   ??  Ss    5:22PM   0:49.95 /System/Library/\n",
      "linweihung        1430   0.1  0.0 409698576   3792   ??  S    Sat01PM   0:14.54 /Library/Applica\n",
      "root                 1   0.1  0.1 409088304   9200   ??  Ss   Sat01PM   9:17.30 /sbin/launchd\n",
      "root             24571   0.1  0.0 408233536   3152   ??  Ss   11:41AM   0:17.82 /System/Library/\n",
      "linweihung         889   0.1  0.1 408265248   5136   ??  S    Sat01PM   0:59.82 /System/Library/\n",
      "linweihung         710   0.1  0.3 410186384  23216   ??  S    Sat01PM   3:50.85 /System/Library/\n",
      "linweihung       22511   0.1  0.1 409243056   6944   ??  S     7:26AM   0:08.60 /System/Library/\n",
      "linweihung        1416   0.1  0.1 409207312   7696   ??  S    Sat01PM   0:18.86 /Applications/Ut\n",
      "root               137   0.1  0.1 408276816   9440   ??  Ss   Sat01PM   1:06.12 /System/Library/\n",
      "linweihung        1413   0.1  0.0 408857056   4080   ??  S    Sat01PM   0:51.85 /Applications/Ut\n",
      "root             24572   0.1  0.0 408227008   3792   ??  Ss   11:41AM   0:32.20 /usr/libexec/usb\n",
      "root               160   0.1  0.1 408264464   5712   ??  Ss   Sat01PM   2:13.36 /usr/libexec/cor\n",
      "linweihung       23229   0.1  0.2 409684160  16800   ??  Ss    8:37AM   0:11.05 /System/Library/\n",
      "linweihung       22629   0.1  0.1 408265824   5648   ??  S     7:27AM   0:05.04 /System/Library/\n",
      "linweihung        7438   0.1  0.5 516125760  38960   ??  Ss   Sun12AM   9:48.10 /System/Library/\n",
      "linweihung        1397   0.1  0.1 409429248   7648   ??  S    Sat01PM   0:12.13 /Applications/Ut\n",
      "linweihung        1381   0.1  0.2 414469600  14176   ??  S    Sat01PM   0:35.22 /Library/Applica\n",
      "_hidd            29910   0.0  0.0 408102384   2352   ??  Ss    1:50PM   0:00.04 /usr/libexec/hid\n",
      "root             29909   0.0  0.1 408253456   6288   ??  Ss    1:50PM   0:00.07 /usr/libexec/neh\n",
      "linweihung       29908   0.0  0.0 33991296    352   ??  Ss    1:49PM   0:00.88 /System/Library/\n",
      "linweihung       29907   0.0  0.0 408207440   3872   ??  S     1:49PM   0:00.07 /System/Library/\n",
      "root             29903   0.0  0.0 408065744   1712   ??  Ss    1:48PM   0:00.25 /usr/libexec/sys\n",
      "linweihung       29900   0.0  0.1 408243648  11472   ??  S     1:48PM   0:00.18 cloudphotod\n",
      "linweihung       29898   0.0  0.1 408369152   7152   ??  S     1:48PM   0:00.11 /System/Library/\n",
      "linweihung       29896   0.0  0.2 408235088  13712   ??  S     1:48PM   0:00.17 /System/Library/\n",
      "linweihung       29892   0.0  0.1 408234464  11856   ??  S     1:48PM   0:00.55 /System/Library/\n",
      "linweihung       29888   0.0  0.2 408279440  15728   ??  S     1:48PM   0:01.33 /System/Library/\n",
      "linweihung       29887   0.0  0.3 408500160  21056   ??  S     1:48PM   0:08.30 /System/Library/\n",
      "linweihung       29886   0.0  0.2 408418448  18224   ??  S     1:48PM   0:05.75 /System/Library/\n",
      "linweihung       29885   0.0  0.2 408273072  13840   ??  S     1:48PM   0:01.86 /System/Library/\n",
      "linweihung       29884   0.0  0.1 408227584   9248   ??  S     1:48PM   0:00.25 /usr/libexec/tri\n",
      "linweihung       29883   0.0  0.2 408240176  13616   ??  S     1:48PM   0:00.97 /System/Library/\n",
      "linweihung       29882   0.0  0.1 408236912   9760   ??  S     1:48PM   0:00.15 /usr/libexec/mlr\n",
      "root             29881   0.0  0.1 408231616   6720   ??  Ss    1:48PM   0:00.16 /usr/libexec/sym\n",
      "linweihung       29880   0.0  0.2 408315376  17200   ??  S     1:48PM   0:00.24 /System/Library/\n",
      "linweihung       29879   0.0  0.1 408270608   8752   ??  S     1:48PM   0:04.61 /System/Library/\n",
      "root             29876   0.0  0.0 408196752   4080   ??  Ss    1:48PM   0:00.06 /System/Library/\n",
      "linweihung       29874   0.0  0.1 408196976   7296   ??  S     1:48PM   0:00.05 /System/Library/\n",
      "linweihung       29878   0.0  0.1 408767872  11120   ??  S     1:48PM   0:00.11 /System/Library/\n",
      "linweihung       29873   0.0  0.1 408258224   7888   ??  S     1:48PM   0:00.17 /System/Library/\n",
      "linweihung       29872   0.0  0.1 408196848   4656   ??  S     1:48PM   0:00.03 /System/Library/\n",
      "linweihung       29877   0.0  0.3 408248336  21248   ??  S     1:48PM   0:00.87 /System/Library/\n",
      "root             29871   0.0  0.1 408226544   6608   ??  Ss    1:48PM   0:00.11 /System/Library/\n",
      "root             29870   0.0  0.0 408066160   3360   ??  Ss    1:48PM   0:00.03 /System/Library/\n",
      "linweihung       29864   0.0  0.1 408227808   4384   ??  S     1:47PM   0:00.08 /usr/libexec/pro\n",
      "_ctkd            29819   0.0  0.0 408197280   2480   ??  Ss    1:46PM   0:00.07 /System/Library/\n",
      "linweihung       29818   0.0  0.1 408244656   6912   ??  S     1:46PM   0:00.10 /System/Library/\n",
      "linweihung       29796   0.0  0.1 408235728  10224   ??  S     1:45PM   0:00.27 /usr/libexec/swc\n",
      "linweihung       29795   0.0  0.2 408398528  12672   ??  S     1:45PM   0:00.15 /System/Library/\n",
      "linweihung       29794   0.0  0.2 408269168  13936   ??  S     1:45PM   0:00.54 /System/Library/\n",
      "linweihung       29793   0.0  0.2 408252320  12928   ??  S     1:45PM   0:00.56 /System/Library/\n",
      "linweihung       29792   0.0  0.1 408238912  11600   ??  S     1:45PM   0:00.22 /System/Library/\n",
      "_iconservices    29774   0.0  0.0 408227424   3936   ??  Ss    1:44PM   0:00.05 /System/Library/\n",
      "linweihung       29773   0.0  0.1 408277248   9120   ??  S     1:44PM   0:00.19 /System/Library/\n",
      "linweihung       29764   0.0  0.0 408255520   3952   ??  S     1:44PM   0:00.21 /usr/libexec/sec\n",
      "root             29754   0.0  0.0 408917952   3216   ??  Ss    1:44PM   0:00.04 /usr/libexec/use\n",
      "linweihung       29749   0.0  0.1 408263712   4368   ??  S     1:44PM   0:00.93 /usr/libexec/con\n",
      "linweihung       29728   0.0  0.1 408273152   9952   ??  S     1:44PM   0:01.45 /System/Library/\n",
      "root             29726   0.0  0.0 408057936   1584   ??  Ss    1:44PM   0:00.02 /usr/libexec/onl\n",
      "linweihung       29720   0.0  0.1 408228592   6592   ??  S     1:43PM   0:00.06 /System/Library/\n",
      "linweihung       29719   0.0  0.2 408293376  16432   ??  S     1:43PM   0:00.29 /System/Library/\n",
      "root             29713   0.0  0.1 408228656   4688   ??  Ss    1:43PM   0:00.08 /System/Library/\n",
      "root             29712   0.0  0.1 408256016  12256   ??  Ss    1:43PM   0:00.18 /System/Library/\n",
      "linweihung       29667   0.0  0.0 408692720    336 s004  S+    1:41PM   0:00.10 -zsh\n",
      "root             29666   0.0  0.0 408803136   3728 s004  Ss    1:41PM   0:00.03 login -pf linwei\n",
      "linweihung       29665   0.0  0.1 408373856   8656   ??  Ss    1:41PM   0:00.06 /System/Library/\n",
      "linweihung       29664   0.0  0.1 408785184  10992   ??  S     1:41PM   0:00.26 /System/Library/\n",
      "linweihung       29597   0.0  0.1 408302240   8576   ??  S     1:38PM   0:00.63 /usr/libexec/nat\n",
      "linweihung       29594   0.0  0.3 515449872  23168   ??  Ss    1:37PM   0:21.02 /System/Library/\n",
      "root             29539   0.0  0.0 408094768   1584   ??  Ss    1:34PM   0:00.02 /System/Library/\n",
      "linweihung       29388   0.0  0.1 408235840   6272   ??  S     1:27PM   0:00.09 /usr/libexec/Sid\n",
      "root             29385   0.0  0.1 408229520   7744   ??  Ss    1:27PM   0:00.34 /usr/libexec/Pow\n",
      "linweihung       29326   0.0  0.1 408248864  11360   ??  S     1:24PM   0:03.67 /System/Library/\n",
      "root             29313   0.0  0.1 408264576   4640   ??  Ss    1:21PM   0:00.70 /usr/libexec/ane\n",
      "linweihung       29311   0.0  0.0 408132752   2704   ??  S     1:21PM   0:00.04 /System/Library/\n",
      "root             29274   0.0  0.1 408277056   4368   ??  Ss    1:20PM   0:00.20 /usr/sbin/system\n",
      "linweihung       29171   0.0  0.0 34481624    680   ??  S     1:14PM   0:00.71 /Users/linweihun\n",
      "root             29135   0.0  0.1 408247568   5088   ??  Ss    1:14PM   0:03.72 /System/Library/\n",
      "linweihung       29134   0.0  0.0 408227968   3712   ??  S     1:14PM   0:00.16 /System/Library/\n",
      "linweihung       29127   0.0  0.1 408292160  11680   ??  S     1:13PM   0:00.76 /System/Library/\n",
      "linweihung       29121   0.0  0.1 408272016   8864   ??  S     1:13PM   0:00.22 /usr/libexec/pkd\n",
      "linweihung       29118   0.0  0.0 408207408   2192   ??  S     1:13PM   0:00.02 /System/Library/\n",
      "linweihung       29117   0.0  0.2 498023104  12928   ??  Ss    1:13PM   0:05.76 /System/Library/\n",
      "root             29072   0.0  0.0 408233984   2352   ??  Ss    1:11PM   0:00.14 /System/Library/\n",
      "linweihung       29052   0.0  0.1 408269728   7120   ??  S     1:10PM   0:00.39 /usr/libexec/dmd\n",
      "linweihung       29049   0.0  0.1 408232112   7360   ??  S     1:10PM   0:01.32 /System/Library/\n",
      "linweihung       29048   0.0  0.3 408504720  21408   ??  Ss    1:10PM   0:00.97 /System/Library/\n",
      "linweihung       28912   0.0  0.1 408264176   5600   ??  S     1:02PM   0:00.46 /System/Library/\n",
      "linweihung       28902   0.0  0.1 412915472  12080   ??  Ss    1:01PM   0:00.91 /System/Library/\n",
      "linweihung       28750   0.0  0.1 408284672  12480   ??  S    12:58PM   0:03.78 /System/Library/\n",
      "linweihung       28738   0.0  0.1 408452304  12192   ??  S    12:58PM   0:01.83 /System/Library/\n",
      "_biome           28726   0.0  0.1 408264448   4288   ??  Ss   12:57PM   0:01.94 /System/Library/\n",
      "root             28724   0.0  0.1 408283024   7952   ??  Ss   12:57PM   0:19.95 /usr/libexec/cor\n",
      "linweihung       28708   0.0  0.1 408370592   5536   ??  Ss   12:57PM   0:00.57 /System/Library/\n",
      "linweihung       28674   0.0  0.1 408439584   6976   ??  S    12:56PM   0:02.00 /usr/libexec/sec\n",
      "linweihung       28556   0.0  0.1 409147568   7744   ??  S    12:42PM   0:01.17 /System/Library/\n",
      "linweihung       28502   0.0  0.1 409381200   9088   ??  S    12:38PM   0:00.70 /System/Library/\n",
      "root             28233   0.0  0.1 408228944   4320   ??  Ss   12:21PM   0:01.29 /usr/libexec/rtc\n",
      "root             28231   0.0  0.1 408264800   5248   ??  Ss   12:21PM   0:00.32 /usr/libexec/bio\n",
      "linweihung       28230   0.0  0.1 408265104   5328   ??  S    12:21PM   0:00.41 /System/Library/\n",
      "root             28186   0.0  0.1 408266496   5536   ??  Ss   12:20PM   0:21.46 /usr/libexec/mob\n",
      "linweihung       25272   0.0  0.3 1593615264  24528   ??  S    11:55AM   0:04.31 /Applications/Si\n",
      "_netbios         25268   0.0  0.0 408197536   2912   ??  SNs  11:54AM   0:00.23 /usr/sbin/netbio\n",
      "linweihung       25219   0.0  0.1 408280976   9536   ??  S    11:52AM   0:07.72 /usr/libexec/rou\n",
      "linweihung       25205   0.0  0.3 408919632  27856   ??  S    11:52AM   0:15.27 /System/Library/\n",
      "linweihung       25155   0.0  0.1 408303472   6576   ??  Ss   11:50AM   0:00.39 /Applications/Ut\n",
      "linweihung       25154   0.0  0.1 408745136   7424   ??  Ss   11:50AM   0:00.56 /System/Library/\n",
      "linweihung       25151   0.0  0.2 409022528  17296   ??  Ss   11:50AM   0:07.04 /System/Library/\n",
      "root             25098   0.0  0.1 408175056   6752   ??  Ss   11:46AM   0:22.26 /usr/libexec/wif\n",
      "linweihung       24868   0.0  0.3 1585035280  22272   ??  S    11:45AM   0:18.28 /Applications/Vi\n",
      "linweihung       24826   0.0  0.0 408430560    272 s003  Ss+  11:45AM   0:00.07 /bin/zsh -il\n",
      "linweihung       24744   0.0  0.0 34705072   1868   ??  S    11:45AM   0:00.92 /Users/linweihun\n",
      "linweihung       24742   0.0  0.2 1584057792  17904   ??  S    11:45AM   0:02.67 /Applications/Vi\n",
      "linweihung       24738   0.0  0.1 1584034912   7712   ??  S    11:45AM   0:05.43 /Applications/Vi\n",
      "linweihung       24588   0.0  0.1 497609168   5680   ??  Ss   11:42AM   0:01.75 /System/Library/\n",
      "linweihung       24476   0.0  0.1 408928640   9072   ??  Ss   11:19AM   0:03.82 /System/Library/\n",
      "linweihung       24250   0.0  0.1 408425216  11968   ??  S    10:38AM   0:11.03 /System/Library/\n",
      "linweihung       23904   0.0  0.1 408304496   6448   ??  Ss   10:14AM   0:00.61 /Applications/Ut\n",
      "linweihung       23903   0.0  0.1 408744112   7184   ??  Ss   10:14AM   0:00.86 /System/Library/\n",
      "linweihung       23902   0.0  0.2 409036496  17072   ??  Ss   10:14AM   0:10.90 /System/Library/\n",
      "linweihung       23882   0.0  0.1 408753488   8128   ??  Ss   10:12AM   0:01.05 /System/Volumes/\n",
      "linweihung       23881   0.0  0.1 408422720   7424   ??  Ss   10:12AM   0:01.18 /System/Library/\n",
      "linweihung       23701   0.0  0.1 408242640   5456   ??  Ss    9:15AM   0:00.35 /System/Library/\n",
      "linweihung       23479   0.0  0.1 408759472   7872   ??  Ss    8:57AM   0:01.45 /System/Library/\n",
      "linweihung       23478   0.0  0.2 413595840  14336   ??  Ss    8:57AM   0:17.08 /System/Library/\n",
      "linweihung       23434   0.0  0.1 408303472   5968   ??  Ss    8:53AM   0:00.76 /Applications/Ut\n",
      "linweihung       23359   0.0  0.1 408760448   7760   ??  Ss    8:47AM   0:01.71 /System/Library/\n",
      "linweihung       23321   0.0  0.5 1600505584  44320   ??  S     8:40AM   8:28.09 /Applications/Si\n",
      "linweihung       23230   0.0  0.1 408743088   6992   ??  Ss    8:37AM   0:01.20 /System/Library/\n",
      "linweihung       23228   0.0  0.1 408438080   9936   ??  Ss    8:37AM   0:03.29 /System/Library/\n",
      "linweihung       23134   0.0  0.0 408198256   3280   ??  S     8:34AM   0:03.78 /usr/libexec/USB\n",
      "linweihung       22836   0.0  0.1 409391376  10656   ??  S     7:34AM   0:01.10 /System/Library/\n",
      "root             22736   0.0  0.0 408198784   2752   ??  Ss    7:28AM   0:01.23 /System/Library/\n",
      "linweihung       22656   0.0  0.1 408286784   7568   ??  Ss    7:27AM   0:03.06 /System/Library/\n",
      "linweihung       22655   0.0  0.2 408298576  13344   ??  S     7:27AM   0:06.67 /System/Library/\n",
      "linweihung       22617   0.0  0.1 408280896   8512   ??  S     7:26AM   0:01.56 /usr/libexec/net\n",
      "linweihung       22614   0.0  0.1 408277216   6576   ??  S     7:26AM   0:02.83 /System/Library/\n",
      "linweihung       22613   0.0  0.1 408270000   8288   ??  S     7:26AM   0:05.75 /System/Library/\n",
      "linweihung       22612   0.0  0.1 408287360  10896   ??  S     7:26AM   0:24.69 /System/Library/\n",
      "linweihung       22570   0.0  0.2 408293232  14688   ??  S     7:26AM   0:15.36 /usr/libexec/kno\n",
      "linweihung       22568   0.0  0.1 408280112   6880   ??  S     7:26AM   0:04.11 /System/Library/\n",
      "root             22567   0.0  0.0 408265840   3072   ??  Ss    7:26AM   0:00.74 /usr/libexec/san\n",
      "linweihung       22558   0.0  0.1 408429968   8160   ??  S     7:26AM   0:02.74 /System/Cryptexe\n",
      "linweihung       22469   0.0  0.2 409957120  18960   ??  S     7:25AM   0:13.63 /System/Applicat\n",
      "linweihung       21253   0.0  0.2 1593652976  14576   ??  S     6:56AM   0:14.45 /Applications/Si\n",
      "linweihung       21252   0.0  0.3 1593663760  21120   ??  S     6:56AM   0:33.63 /Applications/Si\n",
      "linweihung       21251   0.0  0.2 1593641136  17680   ??  S     6:56AM   0:18.55 /Applications/Si\n",
      "linweihung       21250   0.0  0.3 1593741264  21808   ??  S     6:56AM   0:19.46 /Applications/Si\n",
      "linweihung       21224   0.0  0.2 514791840  16160   ??  Ss    6:55AM   0:37.55 /System/Library/\n",
      "linweihung       21222   0.0  0.2 515430336  16800   ??  Ss    6:55AM   0:25.74 /System/Library/\n",
      "linweihung       21079   0.0  0.1 408282672   5488   ??  S     4:59AM   0:03.27 /usr/libexec/rem\n",
      "linweihung       20689   0.0  0.2 408286432  13552   ??  S     2:20AM   0:06.47 /System/Library/\n",
      "linweihung       19931   0.0  0.1 412952128   4368   ??  Ss    1:41AM   0:00.19 /System/Library/\n",
      "linweihung       19929   0.0  0.0 514052288   4144   ??  Ss    1:41AM   0:01.39 /System/Library/\n",
      "linweihung       18610   0.0  0.1 408316464   7248   ??  S    12:33AM   0:02.17 /System/Library/\n",
      "linweihung       17383   0.0  0.2 419624512  15168   ??  S    11:17PM   6:19.32 /Applications/Mi\n",
      "root             15798   0.0  0.1 408276016   8032   ??  Ss    7:50PM   0:26.90 /System/Library/\n",
      "linweihung       15430   0.0  0.1 441850528   6016   ??  S     7:31PM   0:10.31 /Applications/Vi\n",
      "linweihung       15116   0.0  0.1 408258048   7744   ??  Ss    7:17PM   0:04.71 /System/Library/\n",
      "linweihung       14993   0.0  0.1 409277216   8576   ??  S     7:10PM   0:04.55 /System/Library/\n",
      "root             14991   0.0  0.1 408940864  10528   ??  Ss    7:10PM   1:39.29 /usr/libexec/Tou\n",
      "linweihung       14972   0.0  0.1 408282512   5120   ??  S     7:10PM   0:03.97 /usr/libexec/sea\n",
      "root             14778   0.0  0.2 408280480  14480   ??  Ss    6:07PM   1:51.17 /usr/libexec/Per\n",
      "linweihung       14687   0.0  0.0 409248384   4080   ??  S     5:56PM   0:01.20 /usr/libexec/Sid\n",
      "linweihung       13873   0.0  0.1 408304576   5728   ??  Ss    5:22PM   0:01.59 /Applications/Ut\n",
      "linweihung       12997   0.0  0.2 1584055072  13232   ??  S     5:19PM   0:21.80 /Applications/Vi\n",
      "linweihung       12995   0.0  0.3 1584083760  24640   ??  S     5:19PM   0:57.21 /Applications/Vi\n",
      "linweihung       12977   0.0  0.1 441819520  11200   ??  S     5:19PM   0:05.86 /Applications/Vi\n",
      "linweihung       12974   0.0  0.0 441613696   1536   ??  S     5:19PM   0:00.12 /Applications/Vi\n",
      "linweihung        9150   0.0  0.1 408396960   5312   ??  S    Sun02AM   0:09.15 /System/Library/\n",
      "linweihung        8620   0.0  0.1 514519776   4784   ??  Ss   Sun01AM   0:10.14 /System/Library/\n",
      "linweihung        8367   0.0  0.1 498531424   6000   ??  Ss   Sun01AM   0:39.40 /System/Library/\n",
      "linweihung        8365   0.0  0.1 514997712   5760   ??  Ss   Sun01AM   0:22.43 /System/Library/\n",
      "linweihung        7739   0.0  0.1 408277744   8400   ??  S    Sun12AM   1:46.44 /usr/libexec/tru\n",
      "linweihung        7729   0.0  0.1 408264880   6208   ??  S    Sun12AM   0:17.51 /System/Library/\n",
      "linweihung        7590   0.0  0.0 408201296   3984   ??  S    Sun12AM   0:00.21 /System/Library/\n",
      "linweihung        6060   0.0  0.1 408328800   6880   ??  S    Sat05PM   0:04.57 /System/Library/\n",
      "linweihung        5686   0.0  0.0 408228640   4064   ??  S    Sat04PM   0:00.12 /System/Library/\n",
      "root              5561   0.0  0.1 408265248   5792   ??  Ss   Sat04PM   0:01.54 /System/Library/\n",
      "linweihung        3624   0.0  0.1 408296320  10160   ??  S    Sat02PM   3:03.98 /System/Library/\n",
      "linweihung        2385   0.0  0.1 408320784   6048   ??  Ss   Sat02PM   0:18.49 /Applications/On\n",
      "root              2274   0.0  0.0 408263168   3024   ??  Ss   Sat01PM   0:00.11 /System/Library/\n",
      "linweihung        2229   0.0  0.0 407999616   1200   ??  S    Sat01PM   0:00.81 /usr/bin/ssh-age\n",
      "linweihung        2133   0.0  0.1 514797984   5296   ??  Ss   Sat01PM   0:16.14 /System/Library/\n",
      "linweihung        2112   0.0  0.1 442249728   5872   ??  S    Sat01PM   5:16.20 /Applications/Si\n",
      "linweihung        2072   0.0  0.1 408273968   8288   ??  S    Sat01PM   2:12.78 /System/Library/\n",
      "linweihung        2027   0.0  0.2 410035104  19520   ??  S    Sat01PM   0:30.08 /Applications/Ma\n",
      "linweihung        2022   0.0  0.2 410005488  17552   ??  S    Sat01PM   1:30.93 /Applications/Va\n",
      "_fpsd             1462   0.0  0.0 408227488   2576   ??  Ss   Sat01PM   0:07.52 /System/Library/\n",
      "nobody            1460   0.0  0.1 409108928   4624   ??  Ss   Sat01PM   0:00.33 /Library/Applica\n",
      "linweihung        1440   0.0  0.0 408525056   2416   ??  Ss   Sat01PM   0:00.02 /System/Library/\n",
      "linweihung        1439   0.0  0.0 408196912   1680   ??  S    Sat01PM   0:00.05 /usr/libexec/ptp\n",
      "_applepay         1418   0.0  0.0 408168928   1072   ??  S    Sat01PM   0:02.00 /usr/sbin/distno\n",
      "linweihung        1410   0.0  0.0 408526816   1584   ??  S    Sat01PM   0:00.01 /Applications/Ut\n",
      "linweihung        1408   0.0  0.1 409304080   7072   ??  S    Sat01PM   0:09.10 /Applications/Ut\n",
      "linweihung        1405   0.0  0.0 408857056   3536   ??  S    Sat01PM   0:51.57 /Applications/Ut\n",
      "linweihung        1401   0.0  0.0 408561632   1584   ??  S    Sat01PM   0:00.01 /Applications/Ut\n",
      "linweihung        1400   0.0  0.0 408760928   3184   ??  S    Sat01PM   0:01.89 /Applications/Ad\n",
      "linweihung        1389   0.0  0.0 408725984   4096   ??  S    Sat01PM   0:51.71 /Library/Applica\n",
      "linweihung        1386   0.0  0.0 408536032   1600   ??  S    Sat01PM   0:00.01 /Library/Applica\n",
      "_gamecontrollerd  1375   0.0  0.0 408168928   1072   ??  S    Sat01PM   0:01.98 /usr/sbin/distno\n",
      "_assetcache       1376   0.0  0.0 408168928   1072   ??  S    Sat01PM   0:02.07 /usr/sbin/distno\n",
      "root              1360   0.0  0.0 409650624   3136   ??  S    Sat01PM   0:00.69 /Applications/Pu\n",
      "linweihung         931   0.0  0.1 408230448   4736   ??  S    Sat01PM   0:04.39 /System/Library/\n",
      "linweihung        1330   0.0  0.0 408198192   3344   ??  S    Sat01PM   0:00.33 /System/Library/\n",
      "linweihung        1001   0.0  0.1 413357632   7232   ??  Ss   Sat01PM   0:28.09 /System/Library/\n",
      "linweihung         999   0.0  0.0 514713728   3648   ??  Ss   Sat01PM   0:26.39 /System/Library/\n",
      "linweihung         996   0.0  0.2 514996240  19056   ??  Ss   Sat01PM   1:44.60 /System/Library/\n",
      "linweihung         963   0.0  0.2 447999136  13600   ??  S    Sat01PM   0:23.91 /Applications/Ad\n",
      "linweihung         961   0.0  0.2 410012544  20528   ??  S    Sat01PM   1:28.57 /Applications/On\n",
      "linweihung         946   0.0  0.0 408233600   3120   ??  S    Sat01PM   0:00.15 /System/Library/\n",
      "linweihung         911   0.0  0.2 409890096  20704   ??  S    Sat01PM   0:26.14 /Library/Applica\n",
      "linweihung         895   0.0  0.1 408291680   7712   ??  S    Sat01PM  25:22.10 /System/Library/\n",
      "linweihung         915   0.0  0.2 413970096  14976   ??  S    Sat01PM   0:19.37 /Applications/Pu\n",
      "linweihung         921   0.0  0.1 408875264   5856   ??  S    Sat01PM   0:02.97 /System/Library/\n",
      "linweihung         935   0.0  0.2 409425904  13632   ??  S    Sat01PM   0:22.54 /System/Library/\n",
      "root               848   0.0  0.0 408167376   2240   ??  Ss   Sat01PM   0:02.59 /usr/libexec/tas\n",
      "linweihung         821   0.0  0.1 441921872   6736   ??  S    Sat01PM   0:13.92 /Applications/Si\n",
      "linweihung         816   0.0  0.2 442111232  20128   ??  S    Sat01PM   7:06.53 /Applications/Si\n",
      "linweihung         803   0.0  0.1 408466480   7648   ??  Ss   Sat01PM   0:09.54 /System/Library/\n",
      "linweihung         801   0.0  0.2 408940768  16896   ??  Ss   Sat01PM   5:20.04 /System/Library/\n",
      "linweihung         796   0.0  0.2 413286768  13056   ??  Ss   Sat01PM   1:36.32 /Applications/Gr\n",
      "_nearbyd           793   0.0  0.1 408261856   4768   ??  Ss   Sat01PM   4:20.43 /usr/libexec/nea\n",
      "linweihung         792   0.0  0.1 408296304   9280   ??  Ss   Sat01PM   0:06.48 /Applications/Ad\n",
      "linweihung         790   0.0  0.0 408102928   2768   ??  S    Sat01PM   0:00.61 /System/Library/\n",
      "linweihung         788   0.0  0.1 408865792   5808   ??  S    Sat01PM  20:02.76 /usr/libexec/avc\n",
      "linweihung         785   0.0  0.2 413996704  20128   ??  Ss   Sat01PM   8:04.18 /System/Library/\n",
      "linweihung         782   0.0  0.1 408273264   4720   ??  S    Sat01PM   0:03.57 /System/Library/\n",
      "root               780   0.0  0.0 408250560   1152   ??  Ss   Sat01PM   0:00.11 /System/Library/\n",
      "linweihung         772   0.0  0.0 408135712   3808   ??  S    Sat01PM   0:01.45 /System/Library/\n",
      "linweihung         776   0.0  0.1 409588608   4800   ??  S    Sat01PM   0:07.12 /System/Cryptexe\n",
      "linweihung         771   0.0  0.2 410325376  18688   ??  S    Sat01PM   1:52.78 /System/Library/\n",
      "linweihung         770   0.0  0.1 408274464   4912   ??  S    Sat01PM   0:02.71 /System/Library/\n",
      "linweihung         763   0.0  0.1 408268208   7088   ??  S    Sat01PM   0:05.32 /System/Library/\n",
      "linweihung         759   0.0  0.0 441528464   1232   ??  S    Sat01PM   0:00.00 /Applications/Si\n",
      "linweihung         757   0.0  0.0 441605824   1456   ??  S    Sat01PM   0:00.18 /Applications/Si\n",
      "linweihung         663   0.0  0.1 408435872  12096   ??  S    Sat01PM   4:48.27 /System/Library/\n",
      "linweihung         748   0.0  0.0 408266640   3216   ??  S    Sat01PM   0:00.30 /System/Library/\n",
      "linweihung         735   0.0  0.1 408303552   5520   ??  Ss   Sat01PM   0:02.70 /Applications/Ut\n",
      "linweihung         733   0.0  0.1 408265520   5984   ??  S    Sat01PM   0:06.17 /usr/libexec/Con\n",
      "linweihung         731   0.0  0.0 408271680   3184   ??  S    Sat01PM   0:00.50 /System/Library/\n",
      "linweihung         728   0.0  0.1 408280576   8080   ??  S    Sat01PM   0:50.29 /System/Library/\n",
      "root               730   0.0  0.0 408104160   2320   ??  Ss   Sat01PM   0:00.21 automountd\n",
      "linweihung         724   0.0  0.1 408266352   5936   ??  S    Sat01PM   0:13.03 /System/Library/\n",
      "_oahd              729   0.0  0.0 408546080   1920   ??  Ss   Sat01PM   0:03.26 /usr/libexec/ros\n",
      "linweihung         727   0.0  0.0 34572892   1168   ??  Ss   Sat01PM   0:09.81 /System/Library/\n",
      "linweihung         725   0.0  0.1 408782544   8400   ??  Ss   Sat01PM   0:34.36 /System/Library/\n",
      "_appleevents       693   0.0  0.0 408168928   1072   ??  S    Sat01PM   0:02.03 /usr/sbin/distno\n",
      "linweihung         722   0.0  0.1 408266544   4272   ??  S    Sat01PM   0:03.79 /System/Library/\n",
      "linweihung         721   0.0  0.0 408285696   3120   ??  S    Sat01PM   0:01.25 /System/Library/\n",
      "linweihung         720   0.0  0.1 408242384   4928   ??  S    Sat01PM   0:15.25 /usr/libexec/pbo\n",
      "root               715   0.0  0.1 408242592   4784   ??  Ss   Sat01PM   0:05.14 /usr/sbin/fileco\n",
      "linweihung         714   0.0  0.3 415389888  21696   ??  S    Sat01PM   1:07.14 /System/Library/\n",
      "linweihung         711   0.0  0.0 408264816   3488   ??  S    Sat01PM   0:24.03 /System/Library/\n",
      "linweihung         709   0.0  0.1 409374144   6528   ??  S    Sat01PM   0:08.63 /System/Library/\n",
      "linweihung         695   0.0  0.1 408267840   5120   ??  S    Sat01PM   0:14.74 /System/Library/\n",
      "linweihung         708   0.0  0.4 409980704  36832   ??  S    Sat01PM   3:41.97 /System/Library/\n",
      "linweihung         706   0.0  0.1 409917184  10640   ??  S    Sat01PM   1:02.47 /System/Library/\n",
      "linweihung         702   0.0  0.2 409712208  14576   ??  S    Sat01PM   0:52.33 /System/Library/\n",
      "linweihung         686   0.0  0.2 409672112  15616   ??  S    Sat01PM   3:28.74 /System/Library/\n",
      "linweihung         678   0.0  0.1 408308240   7696   ??  S    Sat01PM   0:07.60 /System/Library/\n",
      "linweihung         679   0.0  0.1 408345232  11504   ??  S    Sat01PM   3:37.89 /usr/libexec/sha\n",
      "linweihung         669   0.0  0.1 408323824  10016   ??  S    Sat01PM   1:48.71 /System/Library/\n",
      "root               666   0.0  0.0 408248944   4176   ??  Ss   Sat01PM   0:23.06 /usr/sbin/Wirele\n",
      "linweihung         670   0.0  0.1 408302016   8352   ??  S    Sat01PM   0:27.98 /System/Library/\n",
      "linweihung         657   0.0  0.1 408264464   4480   ??  S    Sat01PM   0:15.51 /System/Library/\n",
      "linweihung         658   0.0  0.1 408275840   9280   ??  S    Sat01PM   0:10.09 /usr/sbin/userno\n",
      "linweihung         654   0.0  0.1 408302816   8048   ??  S    Sat01PM   0:48.60 /usr/libexec/nsu\n",
      "linweihung         655   0.0  0.1 408267248   5728   ??  S    Sat01PM   0:23.97 /usr/libexec/rap\n",
      "linweihung         660   0.0  0.1 410577600  11488   ??  S    Sat01PM   3:02.76 /System/Applicat\n",
      "linweihung         656   0.0  0.1 410124816  11712   ??  S    Sat01PM   0:48.22 /System/Applicat\n",
      "linweihung         643   0.0  0.1 408268800   4768   ??  S    Sat01PM   0:51.22 /usr/libexec/Use\n",
      "linweihung         646   0.0  0.1 408874720   4720   ??  S    Sat01PM   0:07.32 /usr/sbin/univer\n",
      "root               633   0.0  0.0 408188992   2240   ??  Ss   Sat01PM   0:00.05 /System/Library/\n",
      "root               630   0.0  0.0 408196592   2224   ??  Ss   Sat01PM   0:00.03 /System/Library/\n",
      "root               625   0.0  0.1 408235920   4272   ??  Ss   Sat01PM   0:01.91 /System/Library/\n",
      "root               528   0.0  0.0 408229392   3616   ??  Ss   Sat01PM   0:00.13 /System/Library/\n",
      "_rmd               500   0.0  0.0 408168928   1072   ??  S    Sat01PM   0:02.02 /usr/sbin/distno\n",
      "root               481   0.0  0.0 408197216   1104   ??  Ss   Sat01PM   0:00.07 /usr/libexec/sec\n",
      "_spotlight         470   0.0  0.0 408229664   3664   ??  SN   Sat01PM   0:03.52 /System/Library/\n",
      "linweihung         469   0.0  0.1 408237776   6832   ??  SN   Sat01PM   0:08.35 /System/Library/\n",
      "linweihung         442   0.0  0.1 408274592   6576   ??  S    Sat01PM   0:13.39 /usr/libexec/lsd\n",
      "linweihung         440   0.0  0.0 408236064   3648   ??  S    Sat01PM   1:24.86 /usr/sbin/cfpref\n",
      "linweihung         433   0.0  0.0 408169952   4192   ??  S    Sat01PM   1:38.63 /usr/sbin/distno\n",
      "_driverkit         424   0.0  0.0 408499920     64   ??  Ss   Sat01PM   0:00.10 /System/Library/\n",
      "root               414   0.0  0.0 408097408   2880   ??  S    Sat01PM   0:01.41 /usr/sbin/system\n",
      "_cmiodalassistants   412   0.0  0.0 408254560   3696   ??  Ss   Sat01PM   7:28.26 /usr/sbin/appleh\n",
      "_accessoryupdater   399   0.0  0.0 408168928   1072   ??  S    Sat01PM   0:02.03 /usr/sbin/distno\n",
      "root               389   0.0  0.1 409526256   5200   ??  Ss   Sat01PM   0:23.90 /Library/Applica\n",
      "root               310   0.0  0.1 409179968  11040   ??  Ss   Sat01PM   1:05.87 /Library/Applica\n",
      "_spotlight         384   0.0  0.0 408168928   1152   ??  S    Sat01PM   0:02.02 /usr/sbin/distno\n",
      "root               352   0.0  0.1 408270320   6400   ??  Ss   Sat01PM   0:09.91 /usr/libexec/wif\n",
      "_nsurlsessiond     341   0.0  0.0 408168928   1072   ??  S    Sat01PM   0:02.08 /usr/sbin/distno\n",
      "root               324   0.0  0.0 408239136   2624   ??  Ss   Sat01PM   0:00.12 /System/Library/\n",
      "root               318   0.0  0.0 408233568   2736   ??  Ss   Sat01PM   0:00.24 /System/Library/\n",
      "_securityagent     313   0.0  0.0 408168928   1072   ??  S    Sat01PM   0:02.02 /usr/sbin/distno\n",
      "_softwareupdate    315   0.0  0.0 408168928   1072   ??  S    Sat01PM   0:02.10 /usr/sbin/distno\n",
      "root               307   0.0  0.1 409403520   5712   ??  Ss   Sat01PM   1:18.91 /Applications/Pu\n",
      "_driverkit         298   0.0  0.0 408496768     48   ??  Ss   Sat01PM   0:00.11 /System/Library/\n",
      "root               301   0.0  0.0 408272208   4096   ??  Ss   Sat01PM   0:08.19 /usr/libexec/dis\n",
      "root               295   0.0  0.1 408290640   5088   ??  Ss   Sat01PM   1:57.51 /usr/libexec/sea\n",
      "_cmiodalassistants   294   0.0  0.0 408266320   3440   ??  Ss   Sat01PM   0:01.41 /System/Library/\n",
      "_appleevents       292   0.0  0.0 408264960   3232   ??  Ss   Sat01PM   0:01.57 /System/Library/\n",
      "_softwareupdate    277   0.0  0.1 412724256   7008   ??  Ss   Sat01PM   0:22.89 /System/Library/\n",
      "_locationd         265   0.0  0.0 408168928   1360   ??  S    Sat01PM   0:02.14 /usr/sbin/distno\n",
      "root               263   0.0  0.0 408265200   3888   ??  Ss   Sat01PM   0:03.06 /usr/libexec/nes\n",
      "_cmiodalassistants   260   0.0  0.0 408168928   1184   ??  S    Sat01PM   0:02.17 /usr/sbin/distno\n",
      "root               259   0.0  0.0 408227584   2704   ??  Ss   Sat01PM   0:03.37 /usr/sbin/mDNSRe\n",
      "_networkd          256   0.0  0.1 408278624   6688   ??  Ss   Sat01PM   1:02.20 /usr/libexec/sym\n",
      "root             30056   0.0  0.0 33876156   3048 s005  Rs+   2:19PM   0:00.21 ps aux\n",
      "root               251   0.0  0.0 408693664   3312   ??  Ss   Sat01PM   1:01.43 /usr/sbin/audioc\n",
      "_analyticsd        198   0.0  0.1 408277776   5744   ??  Ss   Sat01PM   0:54.85 /System/Library/\n",
      "_locationd         143   0.0  0.1 408301968  11360   ??  Ss   Sat01PM   5:47.58 /usr/libexec/loc\n",
      "_windowserver      238   0.0  0.0 408168928   1072   ??  S    Sat01PM   0:02.33 /usr/sbin/distno\n",
      "_coreaudiod        232   0.0  0.0 408168928   1072   ??  S    Sat01PM   0:02.18 /usr/sbin/distno\n",
      "root               235   0.0  0.0 408266272   2720   ??  Ss   Sat01PM   0:02.88 /System/Library/\n",
      "root               222   0.0  0.0 408168928   1072   ??  S    Sat01PM   0:02.43 /usr/sbin/distno\n",
      "_nsurlsessiond     197   0.0  0.1 408500816   6784   ??  Ss   Sat01PM   0:21.39 /usr/libexec/nsu\n",
      "_trustd            184   0.0  0.1 408275952   7616   ??  Ss   Sat01PM   3:27.28 /usr/libexec/tru\n",
      "_usbmuxd           139   0.0  0.0 408233488   2368   ??  Ss   Sat01PM   0:00.73 /System/Library/\n",
      "_distnote          148   0.0  0.0 408168928   2000   ??  Ss   Sat01PM   0:28.17 /usr/sbin/distno\n",
      "root               195   0.0  0.0 408196656   2528   ??  Ss   Sat01PM   0:00.33 /usr/libexec/apf\n",
      "_timed             138   0.0  0.0 408264384   2816   ??  Ss   Sat01PM   0:02.62 /usr/libexec/tim\n",
      "root               171   0.0  0.1 408288064  10000   ??  Ss   Sat01PM   0:51.58 /System/Library/\n",
      "root               172   0.0  0.0 408252672   2240   ??  Ss   Sat01PM   0:04.37 /System/Library/\n",
      "root               170   0.0  0.1 408256848   8064   ??  Ss   Sat01PM   0:11.40 /usr/libexec/lsd\n",
      "root               169   0.0  0.1 408276848   5824   ??  Ss   Sat01PM   2:33.39 /usr/libexec/run\n",
      "linweihung         167   0.0  0.2 409598832  14864   ??  Ss   Sat01PM   0:45.82 /System/Library/\n",
      "root               164   0.0  0.1 408297008   7680   ??  Ss   Sat01PM   2:41.03 /usr/libexec/sys\n",
      "root               103   0.0  0.1 408273888   8400   ??  Ss   Sat01PM   0:14.68 /System/Library/\n",
      "root               146   0.0  0.1 408270304   9440   ??  Ss   Sat01PM   1:15.85 /usr/libexec/das\n",
      "root               131   0.0  0.0 408234656    464   ??  Ss   Sat01PM   0:06.24 /usr/sbin/syslog\n",
      "root               153   0.0  0.0 408265008   3568   ??  Ss   Sat01PM   0:01.08 /System/Library/\n",
      "root               106   0.0  0.1 408257168   7632   ??  Ss   Sat01PM   3:09.36 /usr/sbin/system\n",
      "root               163   0.0  0.0 408234336   2736   ??  Ss   Sat01PM   0:55.44 /usr/sbin/cfpref\n",
      "root               154   0.0  0.0 408057888   1120   ??  Ss   Sat01PM   0:00.01 /usr/sbin/Kernel\n",
      "root               157   0.0  0.1 408281712   7280   ??  Ss   Sat01PM  15:03.74 /usr/sbin/blueto\n",
      "root               145   0.0  0.0 408197072   1968   ??  Ss   Sat01PM   0:00.01 autofsd\n",
      "root               141   0.0  0.0 408049088    976   ??  Ss   Sat01PM   0:00.04 auditd -l\n",
      "root               140   0.0  0.0 408231808   3328   ??  Ss   Sat01PM   0:12.29 /usr/sbin/securi\n",
      "root               136   0.0  0.1 408350048   5600   ??  Ss   Sat01PM   0:24.43 /System/Library/\n",
      "root               134   0.0  0.0 408227424   2976   ??  Ss   Sat01PM   0:35.09 /usr/libexec/the\n",
      "root               161   0.0  0.1 408265168   4256   ??  Ss   Sat01PM   0:05.22 /usr/libexec/Air\n",
      "root               152   0.0  0.0 408102448   3104   ??  Ss   Sat01PM   0:00.51 /System/Library/\n",
      "root               158   0.0  0.0 408234288   2560   ??  Ss   Sat01PM   1:00.96 /usr/sbin/notify\n",
      "root               115   0.0  0.0 408264016   2144   ??  Ss   Sat01PM   0:00.20 /usr/libexec/rem\n",
      "root               110   0.0  0.1 408265776   5664   ??  Ss   Sat01PM   1:08.08 /System/Library/\n",
      "root               120   0.0  0.0 408067168   1888   ??  Ss   Sat01PM   0:03.09 /usr/libexec/wat\n",
      "root               102   0.0  0.1 408384288   4976   ??  Ss   Sat01PM  10:21.22 /System/Library/\n",
      "root               101   0.0  0.0 408065760   1840   ??  Ss   Sat01PM   0:03.20 /System/Library/\n",
      "root                97   0.0  0.1 408349840  11232   ??  Ss   Sat01PM   4:58.97 /usr/libexec/log\n",
      "root               126   0.0  0.1 408250640   6208   ??  Ss   Sat01PM   0:11.72 /usr/libexec/ker\n",
      "root               127   0.0  0.0 408264384   3088   ??  Ss   Sat01PM   0:50.79 /usr/libexec/dis\n",
      "root                99   0.0  0.1 408266512   6512   ??  Ss   Sat01PM   0:22.13 /usr/libexec/Use\n",
      "root               252   0.0  0.0 408265680   3632   ??  Ss   Sat01PM   0:02.44 /System/Library/\n",
      "linweihung       30055   0.0  0.1 408213360   8736   ??  S     2:19PM   0:00.09 /System/Library/\n",
      "linweihung       30054   0.0  0.2 408213360  14192   ??  S     2:18PM   0:00.09 /System/Library/\n",
      "linweihung       30052   0.0  0.6 1595654624  49888   ??  S     2:18PM   0:00.39 /Applications/Si\n",
      "linweihung       30051   0.0  0.2 409168288  16480   ??  S     2:18PM   0:00.12 /System/Library/\n",
      "linweihung       30049   0.0  0.1 408231280   9440   ??  S     2:17PM   0:00.09 /usr/libexec/key\n",
      "linweihung       30048   0.0  0.3 408311424  25456   ??  S     2:17PM   0:00.91 /System/Library/\n",
      "root             30017   0.0  0.1 408227168   6800   ??  Ss    2:16PM   0:00.08 /usr/libexec/wif\n",
      "linweihung       30016   0.0  0.0 408196672   3472   ??  S     2:16PM   0:00.05 /usr/libexec/WiF\n",
      "linweihung       30012   0.0  0.2 408234288  15168   ??  S     2:16PM   0:00.91 /usr/libexec/sir\n",
      "linweihung       30009   0.0  0.2 408213360  14176   ??  S     2:16PM   0:00.14 /System/Library/\n",
      "linweihung       29998   0.0  0.6 1595682880  49104   ??  S     2:12PM   0:00.52 /Applications/Si\n",
      "linweihung       29988   0.0  0.1 408233888   9376   ??  S     2:10PM   0:00.06 /System/Library/\n",
      "linweihung       29984   0.0  0.0 408066064   1648   ??  S     2:10PM   0:00.01 /System/Library/\n",
      "root             29982   0.0  0.0 408231216   4192   ??  Ss    2:10PM   0:00.08 /System/Library/\n",
      "linweihung       29978   0.0  0.1 408226928   6080   ??  S     2:10PM   0:00.03 /System/Library/\n",
      "linweihung       29974   0.0  0.1 408197760   8144   ??  S     2:10PM   0:00.07 /usr/libexec/rep\n",
      "root             29980   0.0  0.1 408197152   4448   ??  Ss    2:10PM   0:00.05 /System/Library/\n",
      "root             29979   0.0  0.0 408198192   3072   ??  Ss    2:10PM   0:00.04 /System/Library/\n",
      "_assetcache      29976   0.0  0.1 408229488   5616   ??  Ss    2:10PM   0:00.09 /usr/libexec/Ass\n",
      "root             29977   0.0  0.1 408066080   4208   ??  Ss    2:10PM   0:00.05 /System/Library/\n",
      "root             29973   0.0  0.0 408075280   2528   ??  Ss    2:10PM   0:00.03 /System/Library/\n",
      "linweihung       29969   0.0  0.1 408234688  12160   ??  S     2:09PM   0:00.63 /System/Library/\n",
      "linweihung       29949   0.0  0.1 408261472   7328   ??  S     2:08PM   0:02.42 /System/Library/\n",
      "linweihung       29947   0.0  0.1 408228160   4416   ??  S     2:08PM   0:00.07 /System/Library/\n",
      "linweihung       29945   0.0  0.1 408065696   7248   ??  S     2:07PM   0:00.04 /System/Library/\n",
      "linweihung       29944   0.0  0.2 408244896  13072   ??  S     2:07PM   0:00.29 /usr/libexec/fmf\n",
      "linweihung       29940   0.0  0.1 408264480   5840   ??  S     2:07PM   0:00.61 /System/Library/\n",
      "root             29937   0.0  0.1 408226576   5568   ??  Ss    2:07PM   0:00.03 /usr/libexec/pow\n",
      "linweihung       29939   0.0  0.1 408207040   6032   ??  S     2:07PM   0:00.08 /usr/libexec/bio\n",
      "root             29938   0.0  0.1 408227536   9376   ??  Ss    2:07PM   0:00.18 /System/Library/\n",
      "_locationd       29935   0.0  0.0 408226848   3392   ??  S     2:07PM   0:00.06 /usr/libexec/con\n",
      "_locationd       29934   0.0  0.1 408229472   4608   ??  S     2:07PM   0:00.17 /usr/libexec/tru\n",
      "_locationd       29933   0.0  0.0 408197136   1936   ??  S     2:07PM   0:00.05 /usr/sbin/cfpref\n",
      "_locationd       29932   0.0  0.0 408227872   3888   ??  S     2:07PM   0:00.07 /usr/libexec/sec\n",
      "_cmiodalassistants 29931   0.0  0.0 408226848   3360   ??  S     2:07PM   0:00.06 /usr/libexec/con\n",
      "linweihung       29930   0.0  0.1 408262640   7440   ??  S     2:07PM   0:00.05 /usr/libexec/nea\n",
      "_locationd       29929   0.0  0.1 408234144   9440   ??  S     2:07PM   0:00.30 /System/Library/\n",
      "root             29928   0.0  0.0 408197728   3024   ??  Ss    2:07PM   0:00.05 /usr/libexec/tru\n",
      "_cmiodalassistants 29927   0.0  0.1 408247904   4608   ??  S     2:07PM   0:00.15 /usr/libexec/tru\n",
      "_cmiodalassistants 29926   0.0  0.0 408207376   1888   ??  S     2:07PM   0:00.05 /usr/sbin/cfpref\n",
      "_cmiodalassistants 29925   0.0  0.0 408246304   3888   ??  S     2:07PM   0:00.05 /usr/libexec/sec\n",
      "_cmiodalassistants 29924   0.0  0.1 408270480   9392   ??  S     2:07PM   0:00.25 /System/Library/\n",
      "linweihung       29923   0.0  0.1 408272736  10176   ??  S     2:07PM   0:00.53 /System/Library/\n",
      "linweihung       29922   0.0  0.3 408504464  27664   ??  Ss    2:07PM   0:00.41 /System/Applicat\n",
      "_fpsd            29918   0.0  0.0 408067584   2784   ??  Ss    1:50PM   0:00.07 /System/Library/\n",
      "linweihung       29917   0.0  0.2 408243440  14032   ??  S     1:50PM   0:00.48 /usr/libexec/adp\n",
      "linweihung       29914   0.0  0.1 408236976  12288   ??  S     1:50PM   0:00.21 /usr/libexec/lin\n",
      "linweihung       29913   0.0  0.2 408393568  17328   ??  S     1:50PM   0:00.51 /System/Library/\n",
      "linweihung       29912   0.0  0.1 408197344   7872   ??  Ss    1:50PM   0:00.11 /System/Library/\n",
      "linweihung       29911   0.0  0.1 408252864  11248   ??  S     1:50PM   0:00.32 /System/Library/\n"
     ]
    }
   ],
   "source": [
    "!ps aux"
   ]
  },
  {
   "attachments": {},
   "cell_type": "markdown",
   "metadata": {
    "slideshow": {
     "slide_type": "slide"
    }
   },
   "source": [
    "## Process trees\n",
    "\n",
    "All processes but one have a parent which is generally the program from which the process was launched. Processes might also create child processes, through a system call called _fork_. The process tree can be viewed using `pstree` or `htop -t`:"
   ]
  },
  {
   "cell_type": "code",
   "execution_count": 6,
   "metadata": {
    "slideshow": {
     "slide_type": "fragment"
    }
   },
   "outputs": [
    {
     "name": "stdout",
     "output_type": "stream",
     "text": [
      "zsh:1: command not found: pstree\n"
     ]
    }
   ],
   "source": [
    "!pstree"
   ]
  },
  {
   "attachments": {},
   "cell_type": "markdown",
   "metadata": {
    "slideshow": {
     "slide_type": "slide"
    }
   },
   "source": [
    "## Interacting with processes\n",
    "\n",
    "The `kill` command can be used to send signals to processes, using their PID. The default signal sent by `kill` is `TERM`, which terminates the process.\n",
    "\n",
    "`[demo in terminal]`\n",
    "\n",
    "Using these commands from the chrooted environment, it's clear that __mocker v0.1__ does not provide a complete illusion that we're on a different computer."
   ]
  },
  {
   "attachments": {},
   "cell_type": "markdown",
   "metadata": {
    "slideshow": {
     "slide_type": "slide"
    }
   },
   "source": [
    "## Isolating processes through namespaces\n",
    "\n",
    "Linux namespaces provide a way to isolate processes (and more) from the rest of the host. Namespaces are a key feature to enable containers. The `unshare` command can be used to create namespaces."
   ]
  },
  {
   "cell_type": "code",
   "execution_count": null,
   "metadata": {
    "slideshow": {
     "slide_type": "fragment"
    }
   },
   "outputs": [],
   "source": [
    "!sudo unshare -fp chroot $PWD/container-root /bin/sh -c \"/bin/mount -t proc proc /proc && /bin/sh\""
   ]
  },
  {
   "attachments": {},
   "cell_type": "markdown",
   "metadata": {
    "slideshow": {
     "slide_type": "fragment"
    }
   },
   "source": [
    "Now only the processes started from  our container are visible. We can't kill or even see the other processes on the host. Our container starts looking like a different computer now. But it still shares network and resources (CPU, memory) with the host."
   ]
  },
  {
   "attachments": {},
   "cell_type": "markdown",
   "metadata": {
    "slideshow": {
     "slide_type": "slide"
    }
   },
   "source": [
    "## Isolating network through namespaces\n",
    "\n",
    "Namespaces can also isolate network devices from the container. It can be useful if you want to make sure that the container doesn't send any information over the network:\n",
    "\n",
    "### Without network isolation\n",
    "\n",
    "Let's try pinging IP address 172.217.13.195 from the __mocker v0.2__ container (it works).\n",
    "\n",
    "### With network isolation (__mocker v0.2.1__)\n",
    "\n",
    "We can use an extra option of `unshare` to unshare the network with our containerized process:\n",
    "\n"
   ]
  },
  {
   "cell_type": "code",
   "execution_count": null,
   "metadata": {
    "slideshow": {
     "slide_type": "fragment"
    }
   },
   "outputs": [],
   "source": [
    "!sudo unshare -fpn chroot $PWD/container-root /bin/sh -c \"/bin/mount -t proc proc /proc && /bin/sh\""
   ]
  },
  {
   "attachments": {},
   "cell_type": "markdown",
   "metadata": {
    "slideshow": {
     "slide_type": "fragment"
    }
   },
   "source": [
    "Let's try pinging IP address 172.217.13.195 from the __mocker v0.2.1__ container (network is unreachable).\n"
   ]
  },
  {
   "attachments": {},
   "cell_type": "markdown",
   "metadata": {
    "slideshow": {
     "slide_type": "fragment"
    }
   },
   "source": [
    "Namespaces can also be used to isolate:\n",
    "* Mounts\n",
    "* Hostname\n",
    "* ... and more"
   ]
  },
  {
   "attachments": {},
   "cell_type": "markdown",
   "metadata": {
    "slideshow": {
     "slide_type": "slide"
    }
   },
   "source": [
    "### Note\n",
    "\n",
    "We're still ta"
   ]
  },
  {
   "attachments": {},
   "cell_type": "markdown",
   "metadata": {
    "slideshow": {
     "slide_type": "slide"
    }
   },
   "source": [
    "# __mocker v0.3__: adding memory restrictions with cgroups\n",
    "\n",
    "Maybe you don't want your memory-hungry containerized application to bloat your computer. Linux _cgroups_ (control groups) can allocate restricted amounts of memory (but also CPU and other resources) to a group of processes.\n",
    "\n",
    "For instance, using cgroups, we can make sure that our container will only be allowed to use 10MB of memory. \n",
    "\n",
    "First, let's create a text file of 100M:\n",
    "\n"
   ]
  },
  {
   "cell_type": "code",
   "execution_count": null,
   "metadata": {
    "slideshow": {
     "slide_type": "fragment"
    }
   },
   "outputs": [],
   "source": [
    "!base64 /dev/urandom | head -c 100000000 > container-root/file.txt"
   ]
  },
  {
   "attachments": {},
   "cell_type": "markdown",
   "metadata": {
    "slideshow": {
     "slide_type": "fragment"
    }
   },
   "source": [
    "and make sure that we can read it from our __mocker v0.2.1__ container (assuming that the host has more than 100M of available RAM):"
   ]
  },
  {
   "cell_type": "code",
   "execution_count": null,
   "metadata": {
    "slideshow": {
     "slide_type": "fragment"
    }
   },
   "outputs": [],
   "source": [
    "a=$(cat file.txt)"
   ]
  },
  {
   "attachments": {},
   "cell_type": "markdown",
   "metadata": {
    "slideshow": {
     "slide_type": "slide"
    }
   },
   "source": [
    "Now let's create a cgroup and give it only 10MB of memory:\n"
   ]
  },
  {
   "cell_type": "code",
   "execution_count": null,
   "metadata": {
    "slideshow": {
     "slide_type": "fragment"
    }
   },
   "outputs": [],
   "source": [
    "!sudo cgcreate -g \"memory:mygroup\"\n",
    "!sudo cgset -r memory.limit_in_bytes=10000000 mygroup # 10 MB"
   ]
  },
  {
   "attachments": {},
   "cell_type": "markdown",
   "metadata": {
    "slideshow": {
     "slide_type": "slide"
    }
   },
   "source": [
    "Let's now assign our container to the cgroup, resulting in __mocker v0.3__:"
   ]
  },
  {
   "cell_type": "code",
   "execution_count": null,
   "metadata": {
    "slideshow": {
     "slide_type": "fragment"
    }
   },
   "outputs": [],
   "source": [
    "!sudo cgexec -g \"memory:mygroup\" unshare -fpn chroot $PWD/container-root /bin/sh -c \"/bin/mount -t proc proc /proc && /bin/sh\""
   ]
  },
  {
   "attachments": {},
   "cell_type": "markdown",
   "metadata": {
    "slideshow": {
     "slide_type": "fragment"
    }
   },
   "source": [
    "Let's try to read our 100M file from the container: it crashes!\n",
    "\n",
    "cgroups allow the Linux kernel to restrict the amount of resources that processes can use. cgroups can also be used to restrict the amount of CPU used by a group of processes, which can be very useful when multiple processes share the host (server, HPC). They are the third pillar of a containerization system."
   ]
  },
  {
   "attachments": {},
   "cell_type": "markdown",
   "metadata": {
    "slideshow": {
     "slide_type": "slide"
    }
   },
   "source": [
    "# Conclusion\n",
    "\n",
    "Containers leverage the following Linux features:\n",
    "* `chroot`, to change the root directory to an archive containing the \"container image\"\n",
    "* `namespaces`, to isolate processes, network, users, mounts and hostname from the host\n",
    "* `cgroups`, to restrict the amount of CPU and RAM that processes can use\n",
    "\n",
    "They also build on:\n",
    "* overlay file systems, to build images with multiple layers (e.g., base OS + applications)\n",
    "* `seccomp`, to limit system calls that a process is allowed to do\n",
    "\n",
    "\n",
    "And now, let's play some [flashcards](https://flashcards.wizardzines.com/container-basics)\n"
   ]
  }
 ],
 "metadata": {
  "celltoolbar": "Slideshow",
  "kernelspec": {
   "display_name": "Python 3",
   "language": "python",
   "name": "python3"
  },
  "language_info": {
   "codemirror_mode": {
    "name": "ipython",
    "version": 3
   },
   "file_extension": ".py",
   "mimetype": "text/x-python",
   "name": "python",
   "nbconvert_exporter": "python",
   "pygments_lexer": "ipython3",
   "version": "3.9.13"
  }
 },
 "nbformat": 4,
 "nbformat_minor": 2
}
