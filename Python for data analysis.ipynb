{
 "cells": [
  {
   "cell_type": "code",
   "execution_count": null,
   "id": "d7d0af92",
   "metadata": {},
   "outputs": [],
   "source": [
    "fruit_prices = {\n",
    "    'apple': 0.65,\n",
    "    'mango': 1.50,\n",
    "    'strawberry': '$5/pint',\n",
    "    'durian' : 'unavailable'\n",
    "}"
   ]
  },
  {
   "cell_type": "code",
   "execution_count": null,
   "id": "f7a82f43",
   "metadata": {},
   "outputs": [],
   "source": [
    "fruit_prices['apple']"
   ]
  },
  {
   "cell_type": "code",
   "execution_count": null,
   "id": "eac34a48",
   "metadata": {},
   "outputs": [],
   "source": [
    "fruit_prices['apple'] =1.00\n",
    "fruit_prices"
   ]
  },
  {
   "cell_type": "code",
   "execution_count": null,
   "id": "e59f27b6",
   "metadata": {},
   "outputs": [],
   "source": [
    "a = 0\n",
    "b = 0\n",
    "\n",
    "if a> b:\n",
    "    print('a is greater than b')\n",
    "elif a == b:\n",
    "    print('a is equal to b')\n",
    "else:\n",
    "    print('a is not greater than b')"
   ]
  },
  {
   "cell_type": "code",
   "execution_count": null,
   "id": "b5a42f02",
   "metadata": {},
   "outputs": [],
   "source": [
    "random_stuff\n",
    "for element in random_stuff:\n",
    "    print(element)"
   ]
  },
  {
   "cell_type": "code",
   "execution_count": null,
   "id": "0cad4dd2",
   "metadata": {},
   "outputs": [],
   "source": [
    "double_stuff = [element * 2 for element in random_stuff]\n",
    "double_stuff"
   ]
  },
  {
   "cell_type": "code",
   "execution_count": null,
   "id": "ff7a4d99",
   "metadata": {},
   "outputs": [],
   "source": [
    "counter = 0\n",
    "while counter < 5:\n",
    "    print(counter)\n",
    "    counter = counter +1"
   ]
  },
  {
   "cell_type": "code",
   "execution_count": null,
   "id": "e68e40a1",
   "metadata": {},
   "outputs": [],
   "source": [
    "# import..\n",
    "import math\n",
    "print(math.pi)"
   ]
  },
  {
   "cell_type": "code",
   "execution_count": null,
   "id": "1193dc5a",
   "metadata": {},
   "outputs": [],
   "source": [
    "# from .. import ..\n",
    "from math import pi\n",
    "print(pi)"
   ]
  },
  {
   "cell_type": "code",
   "execution_count": null,
   "id": "7b4dc815",
   "metadata": {},
   "outputs": [],
   "source": [
    "# from .. import .. as ..\n",
    "from math import pi as PI\n",
    "print(PI)"
   ]
  },
  {
   "cell_type": "code",
   "execution_count": null,
   "id": "f8d5df0b",
   "metadata": {},
   "outputs": [],
   "source": [
    "# We'll need the random module for this\n",
    "import random\n",
    "\n",
    "def add_noise(x, mu, sd):\n",
    "    \"\"\"\n",
    "    Adds gaussian noise to the input.\n",
    "    \n",
    "    Parameters\n",
    "    ----------\n",
    "    x : number\n",
    "        The number to add noise to\n",
    "    mu : float\n",
    "        the mean of the gaussian noise distribution\n",
    "    sd : float\n",
    "        The standard deviation of the noise distribution\n",
    "    \"\"\"\n",
    "    noisy = random.normalvariate(mu, sd) + x\n",
    "    return noisy"
   ]
  },
  {
   "cell_type": "code",
   "execution_count": null,
   "id": "30ca77bf",
   "metadata": {},
   "outputs": [],
   "source": [
    "x = add_noise(10, 0, 1)\n",
    "print(x)"
   ]
  },
  {
   "cell_type": "code",
   "execution_count": null,
   "id": "1678dd36",
   "metadata": {},
   "outputs": [],
   "source": [
    "def add_noise_with_defaults(x, mu=0, sd=1):\n",
    "    \"\"\"\n",
    "    Adds gaussian noise to the input.\n",
    "    \n",
    "    Parameters\n",
    "    ----------\n",
    "    x : number\n",
    "        The number to add noise to\n",
    "    mu : float, optional\n",
    "        the mean of the gaussian noise distribution. Default: 0\n",
    "    sd : float, optional\n",
    "        The standard deviation of the noise distribution. Default: 1\n",
    "    \"\"\"\n",
    "    noisy = random.normalvariate(mu, sd) + x\n",
    "    return noisy"
   ]
  },
  {
   "cell_type": "code",
   "execution_count": null,
   "id": "9b675403",
   "metadata": {},
   "outputs": [],
   "source": [
    "add_noise_with_defaults(10, 10, 10)"
   ]
  },
  {
   "cell_type": "code",
   "execution_count": null,
   "id": "0022e063",
   "metadata": {},
   "outputs": [],
   "source": [
    "%time 2*2"
   ]
  },
  {
   "cell_type": "code",
   "execution_count": null,
   "id": "ae8b8043",
   "metadata": {},
   "outputs": [],
   "source": [
    "# Average time running the code\n",
    "%timeit 2 * 2"
   ]
  },
  {
   "cell_type": "code",
   "execution_count": null,
   "id": "21ca221f",
   "metadata": {},
   "outputs": [],
   "source": [
    "# Import numpy and get the help documentation for reshape\n",
    "import numpy\n",
    "numpy.reshape?"
   ]
  },
  {
   "cell_type": "code",
   "execution_count": null,
   "id": "222b752a",
   "metadata": {},
   "outputs": [],
   "source": [
    "# By convention, we assign numpy to the variable np for brevity\n",
    "import numpy as np"
   ]
  },
  {
   "cell_type": "code",
   "execution_count": null,
   "id": "4b5be662",
   "metadata": {},
   "outputs": [],
   "source": [
    "# Create an empty 10 x 10 array of zeros\n",
    "array_zeros = np.zeros(shape=(10,10))\n",
    "print(array_zeros)"
   ]
  },
  {
   "cell_type": "code",
   "execution_count": null,
   "id": "884c8dbb",
   "metadata": {},
   "outputs": [],
   "source": [
    "# Inspect the array: what can we learn about its dimentionality?\n",
    "print(array_zeros.shape)"
   ]
  },
  {
   "cell_type": "code",
   "execution_count": null,
   "id": "a68e9076",
   "metadata": {},
   "outputs": [],
   "source": [
    "# Its data type?\n",
    "print(array_zeros.dtype)"
   ]
  },
  {
   "cell_type": "code",
   "execution_count": null,
   "id": "d6182152",
   "metadata": {},
   "outputs": [],
   "source": [
    "# Create a 1D numpy array with values 0 through 999\n",
    "array_1d = np.arange(0,1000)\n",
    "array_1d"
   ]
  },
  {
   "cell_type": "code",
   "execution_count": null,
   "id": "c3e126df",
   "metadata": {
    "scrolled": false
   },
   "outputs": [],
   "source": [
    "# Reshape our array to 100 x 10\n",
    "array_2d = np.reshape(array_1d, (100,10))\n",
    "array_2d"
   ]
  },
  {
   "cell_type": "code",
   "execution_count": null,
   "id": "8751f533",
   "metadata": {},
   "outputs": [],
   "source": [
    "# Multiply every value in our array by 2\n",
    "array_times_2 = array_2d * 2\n",
    "array_times_2"
   ]
  },
  {
   "cell_type": "code",
   "execution_count": null,
   "id": "4a80923a",
   "metadata": {},
   "outputs": [],
   "source": [
    "# Innspect the first 2 elements of each of the first five rows\n",
    "array_times_2[:5, :2]"
   ]
  },
  {
   "cell_type": "code",
   "execution_count": null,
   "id": "a69e0d6f",
   "metadata": {},
   "outputs": [],
   "source": [
    "original = np.copy(array_times_2)\n",
    "original"
   ]
  },
  {
   "cell_type": "code",
   "execution_count": 11,
   "id": "2bfa0af8",
   "metadata": {},
   "outputs": [
    {
     "name": "stdout",
     "output_type": "stream",
     "text": [
      "[[6.3200e-03 1.8000e+01 2.3100e+00 ... 3.9690e+02 4.9800e+00 2.4000e+01]\n",
      " [2.7310e-02 0.0000e+00 7.0700e+00 ... 3.9690e+02 9.1400e+00 2.1600e+01]\n",
      " [2.7290e-02 0.0000e+00 7.0700e+00 ... 3.9283e+02 4.0300e+00 3.4700e+01]\n",
      " ...\n",
      " [6.0760e-02 0.0000e+00 1.1930e+01 ... 3.9690e+02 5.6400e+00 2.3900e+01]\n",
      " [1.0959e-01 0.0000e+00 1.1930e+01 ... 3.9345e+02 6.4800e+00 2.2000e+01]\n",
      " [4.7410e-02 0.0000e+00 1.1930e+01 ... 3.9690e+02 7.8800e+00 1.1900e+01]]\n",
      "(506, 14)\n",
      "float64\n"
     ]
    }
   ],
   "source": [
    "# Load the dataset at https://bit.ly/nds-python-pure\n",
    "data = np.loadtxt('https://bit.ly/nds-python-pure')\n",
    "print(data)\n",
    "print(data.shape)\n",
    "print(data.dtype)"
   ]
  },
  {
   "cell_type": "code",
   "execution_count": 12,
   "id": "c8970d75",
   "metadata": {},
   "outputs": [
    {
     "name": "stdout",
     "output_type": "stream",
     "text": [
      "66.67816985036703\n",
      "66.67816985036703\n"
     ]
    }
   ],
   "source": [
    "# Take the mean of the data array\n",
    "print(data.mean())\n",
    "print(np.mean(data))"
   ]
  },
  {
   "cell_type": "code",
   "execution_count": null,
   "id": "82fd92b0",
   "metadata": {},
   "outputs": [],
   "source": [
    "# Take the mean across the *first axis* (i.e., the mean across rows)\n",
    "data.mean(axis=0)"
   ]
  },
  {
   "cell_type": "code",
   "execution_count": null,
   "id": "67fa5311",
   "metadata": {},
   "outputs": [],
   "source": [
    "# Standard deviation\n",
    "print(data.std(axis=0))"
   ]
  },
  {
   "cell_type": "code",
   "execution_count": null,
   "id": "22ce9b75",
   "metadata": {},
   "outputs": [],
   "source": [
    "# Minimum\n",
    "print(data.min(axis=0))"
   ]
  },
  {
   "cell_type": "code",
   "execution_count": null,
   "id": "2d65d7bd",
   "metadata": {},
   "outputs": [],
   "source": [
    "# Maximum\n",
    "print(data.max(axis=0))"
   ]
  },
  {
   "cell_type": "code",
   "execution_count": null,
   "id": "0f21ff85",
   "metadata": {},
   "outputs": [],
   "source": [
    "# Calculate the 2.5 SD +/- range of the data\n",
    "first_column = data[:, 0]\n",
    "low = first_column.mean() - (first_column.std()*2.5)\n",
    "high = first_column.mean() + (first_column.std()*2.5)\n",
    "print(low, high)"
   ]
  },
  {
   "cell_type": "code",
   "execution_count": null,
   "id": "c08c3896",
   "metadata": {},
   "outputs": [],
   "source": [
    "# Create a mask for the outliers\n",
    "mask = np.logical_or(first_column > high, first_column < low)\n",
    "print(mask)"
   ]
  },
  {
   "cell_type": "code",
   "execution_count": null,
   "id": "976e12c4",
   "metadata": {},
   "outputs": [],
   "source": [
    "# Mask the data and check the values in the first column that are \"outliers\"\n",
    "first_column[mask]"
   ]
  },
  {
   "cell_type": "code",
   "execution_count": null,
   "id": "bff019d5",
   "metadata": {},
   "outputs": [],
   "source": [
    "# Modify data and save to disk\n",
    "modified_data = data * 2\n",
    "np.savetxt('modified_data.csv', modified_data)"
   ]
  },
  {
   "cell_type": "code",
   "execution_count": null,
   "id": "cec2750b",
   "metadata": {},
   "outputs": [],
   "source": [
    "# Check that the file was created!\n",
    "! ls -lF modified_data.csv"
   ]
  },
  {
   "cell_type": "code",
   "execution_count": null,
   "id": "7bbd0235",
   "metadata": {},
   "outputs": [],
   "source": [
    "# Load https://bit.ly/nds-python-mixed\n",
    "data = np.loadtxt('https://bit.ly/nds-python-mixed', dtype=str)\n",
    "print(data)"
   ]
  },
  {
   "cell_type": "code",
   "execution_count": null,
   "id": "70ae0f37",
   "metadata": {},
   "outputs": [],
   "source": [
    "# Check the loaded array's shape:\n",
    "print(data.shape)"
   ]
  },
  {
   "cell_type": "code",
   "execution_count": null,
   "id": "a5776b7d",
   "metadata": {},
   "outputs": [],
   "source": [
    "# The columns are separated by semi-colons: we need to specify _that_, too!\n",
    "data = np.loadtxt('https://bit.ly/nds-python-mixed', dtype = str, delimiter = ';')\n",
    "print(data.shape)\n",
    "print(data)"
   ]
  },
  {
   "cell_type": "code",
   "execution_count": null,
   "id": "9de49cda",
   "metadata": {},
   "outputs": [],
   "source": [
    "# Grand mean of the data\n",
    "print(data.dtype)"
   ]
  },
  {
   "cell_type": "code",
   "execution_count": 14,
   "id": "e0edf2a6",
   "metadata": {},
   "outputs": [
    {
     "name": "stdout",
     "output_type": "stream",
     "text": [
      "<class 'pandas.core.frame.DataFrame'>\n"
     ]
    }
   ],
   "source": [
    "# Import pandas and load https://bit.ly/nds-python-mixed\n",
    "import pandas as pd\n",
    "data = pd.read_csv('https://bit.ly/nds-python-mixed', delimiter = ';')\n",
    "print(type(data))"
   ]
  },
  {
   "cell_type": "code",
   "execution_count": null,
   "id": "87f73d71",
   "metadata": {},
   "outputs": [],
   "source": [
    "# Sneak peek at the first five rows of the data frame\n",
    "data.head()"
   ]
  },
  {
   "cell_type": "code",
   "execution_count": null,
   "id": "d7dcd8db",
   "metadata": {},
   "outputs": [],
   "source": [
    "# Selecting one column:\n",
    "hair = data[\"Hair\"]\n",
    "hair.head()"
   ]
  },
  {
   "cell_type": "code",
   "execution_count": null,
   "id": "2c53b915",
   "metadata": {},
   "outputs": [],
   "source": [
    "# Selecting multiple columns:\n",
    "hair_and_fsiq = data[[\"Hair\",\"FSIQ\"]]\n",
    "print(hair_and_fsiq.head())\n",
    "print(type(hair))\n",
    "print(type(hair_and_fsiq))"
   ]
  },
  {
   "cell_type": "code",
   "execution_count": 15,
   "id": "74aea990",
   "metadata": {},
   "outputs": [
    {
     "data": {
      "text/html": [
       "<div>\n",
       "<style scoped>\n",
       "    .dataframe tbody tr th:only-of-type {\n",
       "        vertical-align: middle;\n",
       "    }\n",
       "\n",
       "    .dataframe tbody tr th {\n",
       "        vertical-align: top;\n",
       "    }\n",
       "\n",
       "    .dataframe thead th {\n",
       "        text-align: right;\n",
       "    }\n",
       "</style>\n",
       "<table border=\"1\" class=\"dataframe\">\n",
       "  <thead>\n",
       "    <tr style=\"text-align: right;\">\n",
       "      <th></th>\n",
       "      <th>Hair</th>\n",
       "      <th>FSIQ</th>\n",
       "      <th>VIQ</th>\n",
       "      <th>PIQ</th>\n",
       "      <th>Weight</th>\n",
       "      <th>Height</th>\n",
       "      <th>MRI_Count</th>\n",
       "    </tr>\n",
       "  </thead>\n",
       "  <tbody>\n",
       "    <tr>\n",
       "      <th>1</th>\n",
       "      <td>white</td>\n",
       "      <td>133</td>\n",
       "      <td>132</td>\n",
       "      <td>124</td>\n",
       "      <td>118</td>\n",
       "      <td>64.5</td>\n",
       "      <td>816932</td>\n",
       "    </tr>\n",
       "    <tr>\n",
       "      <th>2</th>\n",
       "      <td>black</td>\n",
       "      <td>140</td>\n",
       "      <td>150</td>\n",
       "      <td>124</td>\n",
       "      <td>.</td>\n",
       "      <td>72.5</td>\n",
       "      <td>1001121</td>\n",
       "    </tr>\n",
       "    <tr>\n",
       "      <th>3</th>\n",
       "      <td>black</td>\n",
       "      <td>139</td>\n",
       "      <td>123</td>\n",
       "      <td>150</td>\n",
       "      <td>143</td>\n",
       "      <td>73.3</td>\n",
       "      <td>1038437</td>\n",
       "    </tr>\n",
       "    <tr>\n",
       "      <th>4</th>\n",
       "      <td>black</td>\n",
       "      <td>133</td>\n",
       "      <td>129</td>\n",
       "      <td>128</td>\n",
       "      <td>172</td>\n",
       "      <td>68.8</td>\n",
       "      <td>965353</td>\n",
       "    </tr>\n",
       "    <tr>\n",
       "      <th>5</th>\n",
       "      <td>white</td>\n",
       "      <td>137</td>\n",
       "      <td>132</td>\n",
       "      <td>134</td>\n",
       "      <td>147</td>\n",
       "      <td>65.0</td>\n",
       "      <td>951545</td>\n",
       "    </tr>\n",
       "  </tbody>\n",
       "</table>\n",
       "</div>"
      ],
      "text/plain": [
       "    Hair  FSIQ  VIQ  PIQ Weight Height  MRI_Count\n",
       "1  white   133  132  124    118   64.5     816932\n",
       "2  black   140  150  124      .   72.5    1001121\n",
       "3  black   139  123  150    143   73.3    1038437\n",
       "4  black   133  129  128    172   68.8     965353\n",
       "5  white   137  132  134    147   65.0     951545"
      ]
     },
     "execution_count": 15,
     "metadata": {},
     "output_type": "execute_result"
    }
   ],
   "source": [
    "# We can specify the index when we load the data\n",
    "data = pd.read_csv('https://bit.ly/nds-python-mixed', delimiter=';', index_col = 0)\n",
    "data.head()"
   ]
  },
  {
   "cell_type": "code",
   "execution_count": 16,
   "id": "ec1e26c9",
   "metadata": {},
   "outputs": [
    {
     "data": {
      "text/html": [
       "<div>\n",
       "<style scoped>\n",
       "    .dataframe tbody tr th:only-of-type {\n",
       "        vertical-align: middle;\n",
       "    }\n",
       "\n",
       "    .dataframe tbody tr th {\n",
       "        vertical-align: top;\n",
       "    }\n",
       "\n",
       "    .dataframe thead th {\n",
       "        text-align: right;\n",
       "    }\n",
       "</style>\n",
       "<table border=\"1\" class=\"dataframe\">\n",
       "  <thead>\n",
       "    <tr style=\"text-align: right;\">\n",
       "      <th></th>\n",
       "      <th>Hair</th>\n",
       "      <th>FSIQ</th>\n",
       "      <th>VIQ</th>\n",
       "      <th>PIQ</th>\n",
       "      <th>Weight</th>\n",
       "      <th>Height</th>\n",
       "      <th>MRI_Count</th>\n",
       "    </tr>\n",
       "  </thead>\n",
       "  <tbody>\n",
       "    <tr>\n",
       "      <th>participant_1</th>\n",
       "      <td>white</td>\n",
       "      <td>133</td>\n",
       "      <td>132</td>\n",
       "      <td>124</td>\n",
       "      <td>118</td>\n",
       "      <td>64.5</td>\n",
       "      <td>816932</td>\n",
       "    </tr>\n",
       "    <tr>\n",
       "      <th>participant_2</th>\n",
       "      <td>black</td>\n",
       "      <td>140</td>\n",
       "      <td>150</td>\n",
       "      <td>124</td>\n",
       "      <td>.</td>\n",
       "      <td>72.5</td>\n",
       "      <td>1001121</td>\n",
       "    </tr>\n",
       "    <tr>\n",
       "      <th>participant_3</th>\n",
       "      <td>black</td>\n",
       "      <td>139</td>\n",
       "      <td>123</td>\n",
       "      <td>150</td>\n",
       "      <td>143</td>\n",
       "      <td>73.3</td>\n",
       "      <td>1038437</td>\n",
       "    </tr>\n",
       "    <tr>\n",
       "      <th>participant_4</th>\n",
       "      <td>black</td>\n",
       "      <td>133</td>\n",
       "      <td>129</td>\n",
       "      <td>128</td>\n",
       "      <td>172</td>\n",
       "      <td>68.8</td>\n",
       "      <td>965353</td>\n",
       "    </tr>\n",
       "    <tr>\n",
       "      <th>participant_5</th>\n",
       "      <td>white</td>\n",
       "      <td>137</td>\n",
       "      <td>132</td>\n",
       "      <td>134</td>\n",
       "      <td>147</td>\n",
       "      <td>65.0</td>\n",
       "      <td>951545</td>\n",
       "    </tr>\n",
       "  </tbody>\n",
       "</table>\n",
       "</div>"
      ],
      "text/plain": [
       "                Hair  FSIQ  VIQ  PIQ Weight Height  MRI_Count\n",
       "participant_1  white   133  132  124    118   64.5     816932\n",
       "participant_2  black   140  150  124      .   72.5    1001121\n",
       "participant_3  black   139  123  150    143   73.3    1038437\n",
       "participant_4  black   133  129  128    172   68.8     965353\n",
       "participant_5  white   137  132  134    147   65.0     951545"
      ]
     },
     "execution_count": 16,
     "metadata": {},
     "output_type": "execute_result"
    }
   ],
   "source": [
    "# But we can also set the index directly, too:\n",
    "data.index = ['participant_{}'.format(n+1) for n in range(len(data))]\n",
    "data.head()"
   ]
  },
  {
   "cell_type": "code",
   "execution_count": null,
   "id": "dfdcdc89",
   "metadata": {},
   "outputs": [],
   "source": [
    "# Select participant number 10\n",
    "data.loc['participant_10', 'Hair']"
   ]
  },
  {
   "cell_type": "code",
   "execution_count": 17,
   "id": "cc9b5ced",
   "metadata": {},
   "outputs": [
    {
     "name": "stderr",
     "output_type": "stream",
     "text": [
      "/var/folders/1l/6zsyx5qd0yz1w5jk2423nczh0000gn/T/ipykernel_67381/3255083572.py:2: FutureWarning: The default value of numeric_only in DataFrame.mean is deprecated. In a future version, it will default to False. In addition, specifying 'numeric_only=None' is deprecated. Select only valid columns or specify the value of numeric_only to silence this warning.\n",
      "  data.mean()\n"
     ]
    },
    {
     "data": {
      "text/plain": [
       "FSIQ            113.450\n",
       "VIQ             112.350\n",
       "PIQ             111.025\n",
       "MRI_Count    908755.000\n",
       "dtype: float64"
      ]
     },
     "execution_count": 17,
     "metadata": {},
     "output_type": "execute_result"
    }
   ],
   "source": [
    "# Taking the mean of the data\n",
    "data.mean()"
   ]
  },
  {
   "cell_type": "code",
   "execution_count": null,
   "id": "9cfad620",
   "metadata": {},
   "outputs": [],
   "source": [
    "# We can also use a special dataframe method to get a lot of stats quickly:\n",
    "data.describe()"
   ]
  },
  {
   "cell_type": "code",
   "execution_count": 18,
   "id": "86c02069",
   "metadata": {},
   "outputs": [
    {
     "name": "stdout",
     "output_type": "stream",
     "text": [
      "object object\n"
     ]
    }
   ],
   "source": [
    "# Check the data type of Weight and Hight\n",
    "print(data['Weight'].dtype, data['Height'].dtype)"
   ]
  },
  {
   "cell_type": "code",
   "execution_count": 19,
   "id": "d275063e",
   "metadata": {},
   "outputs": [
    {
     "name": "stdout",
     "output_type": "stream",
     "text": [
      "participant_1     118\n",
      "participant_2       .\n",
      "participant_3     143\n",
      "participant_4     172\n",
      "participant_5     147\n",
      "participant_6     146\n",
      "participant_7     138\n",
      "participant_8     175\n",
      "participant_9     134\n",
      "participant_10    172\n",
      "participant_11    118\n",
      "participant_12    151\n",
      "participant_13    155\n",
      "participant_14    155\n",
      "participant_15    146\n",
      "participant_16    135\n",
      "participant_17    127\n",
      "participant_18    178\n",
      "participant_19    136\n",
      "participant_20    180\n",
      "participant_21      .\n",
      "participant_22    186\n",
      "participant_23    122\n",
      "participant_24    132\n",
      "participant_25    114\n",
      "participant_26    171\n",
      "participant_27    140\n",
      "participant_28    187\n",
      "participant_29    106\n",
      "participant_30    159\n",
      "participant_31    127\n",
      "participant_32    191\n",
      "participant_33    192\n",
      "participant_34    181\n",
      "participant_35    143\n",
      "participant_36    153\n",
      "participant_37    144\n",
      "participant_38    139\n",
      "participant_39    148\n",
      "participant_40    179\n",
      "Name: Weight, dtype: object\n"
     ]
    }
   ],
   "source": [
    "# Check the Weight column\n",
    "print(data['Weight'])"
   ]
  },
  {
   "cell_type": "code",
   "execution_count": 20,
   "id": "297f3ca3",
   "metadata": {},
   "outputs": [
    {
     "data": {
      "text/html": [
       "<div>\n",
       "<style scoped>\n",
       "    .dataframe tbody tr th:only-of-type {\n",
       "        vertical-align: middle;\n",
       "    }\n",
       "\n",
       "    .dataframe tbody tr th {\n",
       "        vertical-align: top;\n",
       "    }\n",
       "\n",
       "    .dataframe thead th {\n",
       "        text-align: right;\n",
       "    }\n",
       "</style>\n",
       "<table border=\"1\" class=\"dataframe\">\n",
       "  <thead>\n",
       "    <tr style=\"text-align: right;\">\n",
       "      <th></th>\n",
       "      <th>Hair</th>\n",
       "      <th>FSIQ</th>\n",
       "      <th>VIQ</th>\n",
       "      <th>PIQ</th>\n",
       "      <th>Weight</th>\n",
       "      <th>Height</th>\n",
       "      <th>MRI_Count</th>\n",
       "    </tr>\n",
       "  </thead>\n",
       "  <tbody>\n",
       "    <tr>\n",
       "      <th>participant_1</th>\n",
       "      <td>white</td>\n",
       "      <td>133</td>\n",
       "      <td>132</td>\n",
       "      <td>124</td>\n",
       "      <td>118</td>\n",
       "      <td>64.5</td>\n",
       "      <td>816932</td>\n",
       "    </tr>\n",
       "    <tr>\n",
       "      <th>participant_2</th>\n",
       "      <td>black</td>\n",
       "      <td>140</td>\n",
       "      <td>150</td>\n",
       "      <td>124</td>\n",
       "      <td>NaN</td>\n",
       "      <td>72.5</td>\n",
       "      <td>1001121</td>\n",
       "    </tr>\n",
       "    <tr>\n",
       "      <th>participant_3</th>\n",
       "      <td>black</td>\n",
       "      <td>139</td>\n",
       "      <td>123</td>\n",
       "      <td>150</td>\n",
       "      <td>143</td>\n",
       "      <td>73.3</td>\n",
       "      <td>1038437</td>\n",
       "    </tr>\n",
       "    <tr>\n",
       "      <th>participant_4</th>\n",
       "      <td>black</td>\n",
       "      <td>133</td>\n",
       "      <td>129</td>\n",
       "      <td>128</td>\n",
       "      <td>172</td>\n",
       "      <td>68.8</td>\n",
       "      <td>965353</td>\n",
       "    </tr>\n",
       "    <tr>\n",
       "      <th>participant_5</th>\n",
       "      <td>white</td>\n",
       "      <td>137</td>\n",
       "      <td>132</td>\n",
       "      <td>134</td>\n",
       "      <td>147</td>\n",
       "      <td>65.0</td>\n",
       "      <td>951545</td>\n",
       "    </tr>\n",
       "  </tbody>\n",
       "</table>\n",
       "</div>"
      ],
      "text/plain": [
       "                Hair  FSIQ  VIQ  PIQ Weight Height  MRI_Count\n",
       "participant_1  white   133  132  124    118   64.5     816932\n",
       "participant_2  black   140  150  124    NaN   72.5    1001121\n",
       "participant_3  black   139  123  150    143   73.3    1038437\n",
       "participant_4  black   133  129  128    172   68.8     965353\n",
       "participant_5  white   137  132  134    147   65.0     951545"
      ]
     },
     "execution_count": 20,
     "metadata": {},
     "output_type": "execute_result"
    }
   ],
   "source": [
    "# Replace '.' with NaN\n",
    "data = data.replace('.', np.nan)\n",
    "data.head()"
   ]
  },
  {
   "cell_type": "code",
   "execution_count": null,
   "id": "111abeaa",
   "metadata": {},
   "outputs": [],
   "source": [
    "# Re-check the data type of Weight and Height\n",
    "print(data['Weight'].dtype, data['Height'].dtype)"
   ]
  },
  {
   "cell_type": "code",
   "execution_count": null,
   "id": "8236dbfc",
   "metadata": {},
   "outputs": [],
   "source": [
    "# Cast Weight and Height to float\n",
    "data['Weight'].astype(float)\n",
    "data['Height'].astype(float)"
   ]
  },
  {
   "cell_type": "code",
   "execution_count": 21,
   "id": "1b103c27",
   "metadata": {},
   "outputs": [
    {
     "data": {
      "text/html": [
       "<div>\n",
       "<style scoped>\n",
       "    .dataframe tbody tr th:only-of-type {\n",
       "        vertical-align: middle;\n",
       "    }\n",
       "\n",
       "    .dataframe tbody tr th {\n",
       "        vertical-align: top;\n",
       "    }\n",
       "\n",
       "    .dataframe thead th {\n",
       "        text-align: right;\n",
       "    }\n",
       "</style>\n",
       "<table border=\"1\" class=\"dataframe\">\n",
       "  <thead>\n",
       "    <tr style=\"text-align: right;\">\n",
       "      <th></th>\n",
       "      <th>Hair</th>\n",
       "      <th>FSIQ</th>\n",
       "      <th>VIQ</th>\n",
       "      <th>PIQ</th>\n",
       "      <th>Weight</th>\n",
       "      <th>Height</th>\n",
       "      <th>MRI_Count</th>\n",
       "    </tr>\n",
       "  </thead>\n",
       "  <tbody>\n",
       "    <tr>\n",
       "      <th>1</th>\n",
       "      <td>white</td>\n",
       "      <td>133</td>\n",
       "      <td>132</td>\n",
       "      <td>124</td>\n",
       "      <td>118.0</td>\n",
       "      <td>64.5</td>\n",
       "      <td>816932</td>\n",
       "    </tr>\n",
       "    <tr>\n",
       "      <th>2</th>\n",
       "      <td>black</td>\n",
       "      <td>140</td>\n",
       "      <td>150</td>\n",
       "      <td>124</td>\n",
       "      <td>NaN</td>\n",
       "      <td>72.5</td>\n",
       "      <td>1001121</td>\n",
       "    </tr>\n",
       "    <tr>\n",
       "      <th>3</th>\n",
       "      <td>black</td>\n",
       "      <td>139</td>\n",
       "      <td>123</td>\n",
       "      <td>150</td>\n",
       "      <td>143.0</td>\n",
       "      <td>73.3</td>\n",
       "      <td>1038437</td>\n",
       "    </tr>\n",
       "    <tr>\n",
       "      <th>4</th>\n",
       "      <td>black</td>\n",
       "      <td>133</td>\n",
       "      <td>129</td>\n",
       "      <td>128</td>\n",
       "      <td>172.0</td>\n",
       "      <td>68.8</td>\n",
       "      <td>965353</td>\n",
       "    </tr>\n",
       "    <tr>\n",
       "      <th>5</th>\n",
       "      <td>white</td>\n",
       "      <td>137</td>\n",
       "      <td>132</td>\n",
       "      <td>134</td>\n",
       "      <td>147.0</td>\n",
       "      <td>65.0</td>\n",
       "      <td>951545</td>\n",
       "    </tr>\n",
       "  </tbody>\n",
       "</table>\n",
       "</div>"
      ],
      "text/plain": [
       "    Hair  FSIQ  VIQ  PIQ  Weight  Height  MRI_Count\n",
       "1  white   133  132  124   118.0    64.5     816932\n",
       "2  black   140  150  124     NaN    72.5    1001121\n",
       "3  black   139  123  150   143.0    73.3    1038437\n",
       "4  black   133  129  128   172.0    68.8     965353\n",
       "5  white   137  132  134   147.0    65.0     951545"
      ]
     },
     "execution_count": 21,
     "metadata": {},
     "output_type": "execute_result"
    }
   ],
   "source": [
    "# Reload data specifying `na_values` and check Weight/Height dtype\n",
    "data = pd.read_csv('https://bit.ly/nds-python-mixed', delimiter=';', index_col=0, na_values='.')\n",
    "data.head()"
   ]
  },
  {
   "cell_type": "code",
   "execution_count": 22,
   "id": "d9975513",
   "metadata": {},
   "outputs": [
    {
     "data": {
      "text/html": [
       "<div>\n",
       "<style scoped>\n",
       "    .dataframe tbody tr th:only-of-type {\n",
       "        vertical-align: middle;\n",
       "    }\n",
       "\n",
       "    .dataframe tbody tr th {\n",
       "        vertical-align: top;\n",
       "    }\n",
       "\n",
       "    .dataframe thead th {\n",
       "        text-align: right;\n",
       "    }\n",
       "</style>\n",
       "<table border=\"1\" class=\"dataframe\">\n",
       "  <thead>\n",
       "    <tr style=\"text-align: right;\">\n",
       "      <th></th>\n",
       "      <th>FSIQ</th>\n",
       "      <th>VIQ</th>\n",
       "      <th>PIQ</th>\n",
       "      <th>Weight</th>\n",
       "      <th>Height</th>\n",
       "      <th>MRI_Count</th>\n",
       "    </tr>\n",
       "  </thead>\n",
       "  <tbody>\n",
       "    <tr>\n",
       "      <th>count</th>\n",
       "      <td>40.000000</td>\n",
       "      <td>40.000000</td>\n",
       "      <td>40.00000</td>\n",
       "      <td>38.000000</td>\n",
       "      <td>39.000000</td>\n",
       "      <td>4.000000e+01</td>\n",
       "    </tr>\n",
       "    <tr>\n",
       "      <th>mean</th>\n",
       "      <td>113.450000</td>\n",
       "      <td>112.350000</td>\n",
       "      <td>111.02500</td>\n",
       "      <td>151.052632</td>\n",
       "      <td>68.525641</td>\n",
       "      <td>9.087550e+05</td>\n",
       "    </tr>\n",
       "    <tr>\n",
       "      <th>std</th>\n",
       "      <td>24.082071</td>\n",
       "      <td>23.616107</td>\n",
       "      <td>22.47105</td>\n",
       "      <td>23.478509</td>\n",
       "      <td>3.994649</td>\n",
       "      <td>7.228205e+04</td>\n",
       "    </tr>\n",
       "    <tr>\n",
       "      <th>min</th>\n",
       "      <td>77.000000</td>\n",
       "      <td>71.000000</td>\n",
       "      <td>72.00000</td>\n",
       "      <td>106.000000</td>\n",
       "      <td>62.000000</td>\n",
       "      <td>7.906190e+05</td>\n",
       "    </tr>\n",
       "    <tr>\n",
       "      <th>25%</th>\n",
       "      <td>89.750000</td>\n",
       "      <td>90.000000</td>\n",
       "      <td>88.25000</td>\n",
       "      <td>135.250000</td>\n",
       "      <td>66.000000</td>\n",
       "      <td>8.559185e+05</td>\n",
       "    </tr>\n",
       "    <tr>\n",
       "      <th>50%</th>\n",
       "      <td>116.500000</td>\n",
       "      <td>113.000000</td>\n",
       "      <td>115.00000</td>\n",
       "      <td>146.500000</td>\n",
       "      <td>68.000000</td>\n",
       "      <td>9.053990e+05</td>\n",
       "    </tr>\n",
       "    <tr>\n",
       "      <th>75%</th>\n",
       "      <td>135.500000</td>\n",
       "      <td>129.750000</td>\n",
       "      <td>128.00000</td>\n",
       "      <td>172.000000</td>\n",
       "      <td>70.500000</td>\n",
       "      <td>9.500780e+05</td>\n",
       "    </tr>\n",
       "    <tr>\n",
       "      <th>max</th>\n",
       "      <td>144.000000</td>\n",
       "      <td>150.000000</td>\n",
       "      <td>150.00000</td>\n",
       "      <td>192.000000</td>\n",
       "      <td>77.000000</td>\n",
       "      <td>1.079549e+06</td>\n",
       "    </tr>\n",
       "  </tbody>\n",
       "</table>\n",
       "</div>"
      ],
      "text/plain": [
       "             FSIQ         VIQ        PIQ      Weight     Height     MRI_Count\n",
       "count   40.000000   40.000000   40.00000   38.000000  39.000000  4.000000e+01\n",
       "mean   113.450000  112.350000  111.02500  151.052632  68.525641  9.087550e+05\n",
       "std     24.082071   23.616107   22.47105   23.478509   3.994649  7.228205e+04\n",
       "min     77.000000   71.000000   72.00000  106.000000  62.000000  7.906190e+05\n",
       "25%     89.750000   90.000000   88.25000  135.250000  66.000000  8.559185e+05\n",
       "50%    116.500000  113.000000  115.00000  146.500000  68.000000  9.053990e+05\n",
       "75%    135.500000  129.750000  128.00000  172.000000  70.500000  9.500780e+05\n",
       "max    144.000000  150.000000  150.00000  192.000000  77.000000  1.079549e+06"
      ]
     },
     "execution_count": 22,
     "metadata": {},
     "output_type": "execute_result"
    }
   ],
   "source": [
    "# Now Weight + Height should be included in our \"describe\" method:\n",
    "data.describe()"
   ]
  },
  {
   "cell_type": "code",
   "execution_count": null,
   "id": "9a7a20d0",
   "metadata": {},
   "outputs": [],
   "source": []
  }
 ],
 "metadata": {
  "kernelspec": {
   "display_name": "Python 3 (ipykernel)",
   "language": "python",
   "name": "python3"
  },
  "language_info": {
   "codemirror_mode": {
    "name": "ipython",
    "version": 3
   },
   "file_extension": ".py",
   "mimetype": "text/x-python",
   "name": "python",
   "nbconvert_exporter": "python",
   "pygments_lexer": "ipython3",
   "version": "3.9.13"
  }
 },
 "nbformat": 4,
 "nbformat_minor": 5
}
