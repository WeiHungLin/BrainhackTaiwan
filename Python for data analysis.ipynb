{
 "cells": [
  {
   "cell_type": "code",
   "execution_count": null,
   "id": "d7d0af92",
   "metadata": {},
   "outputs": [],
   "source": [
    "fruit_prices = {\n",
    "    'apple': 0.65,\n",
    "    'mango': 1.50,\n",
    "    'strawberry': '$5/pint',\n",
    "    'durian' : 'unavailable'\n",
    "}"
   ]
  },
  {
   "cell_type": "code",
   "execution_count": null,
   "id": "f7a82f43",
   "metadata": {},
   "outputs": [],
   "source": [
    "fruit_prices['apple']"
   ]
  },
  {
   "cell_type": "code",
   "execution_count": null,
   "id": "eac34a48",
   "metadata": {},
   "outputs": [],
   "source": [
    "fruit_prices['apple'] =1.00\n",
    "fruit_prices"
   ]
  },
  {
   "cell_type": "code",
   "execution_count": null,
   "id": "e59f27b6",
   "metadata": {},
   "outputs": [],
   "source": [
    "a = 0\n",
    "b = 0\n",
    "\n",
    "if a> b:\n",
    "    print('a is greater than b')\n",
    "elif a == b:\n",
    "    print('a is equal to b')\n",
    "else:\n",
    "    print('a is not greater than b')"
   ]
  },
  {
   "cell_type": "code",
   "execution_count": null,
   "id": "b5a42f02",
   "metadata": {},
   "outputs": [],
   "source": [
    "random_stuff\n",
    "for element in random_stuff:\n",
    "    print(element)"
   ]
  },
  {
   "cell_type": "code",
   "execution_count": null,
   "id": "0cad4dd2",
   "metadata": {},
   "outputs": [],
   "source": [
    "double_stuff = [element * 2 for element in random_stuff]\n",
    "double_stuff"
   ]
  },
  {
   "cell_type": "code",
   "execution_count": null,
   "id": "ff7a4d99",
   "metadata": {},
   "outputs": [],
   "source": [
    "counter = 0\n",
    "while counter < 5:\n",
    "    print(counter)\n",
    "    counter = counter +1"
   ]
  },
  {
   "cell_type": "code",
   "execution_count": null,
   "id": "e68e40a1",
   "metadata": {},
   "outputs": [],
   "source": [
    "# import..\n",
    "import math\n",
    "print(math.pi)"
   ]
  },
  {
   "cell_type": "code",
   "execution_count": null,
   "id": "1193dc5a",
   "metadata": {},
   "outputs": [],
   "source": [
    "# from .. import ..\n",
    "from math import pi\n",
    "print(pi)"
   ]
  },
  {
   "cell_type": "code",
   "execution_count": null,
   "id": "7b4dc815",
   "metadata": {},
   "outputs": [],
   "source": [
    "# from .. import .. as ..\n",
    "from math import pi as PI\n",
    "print(PI)"
   ]
  },
  {
   "cell_type": "code",
   "execution_count": null,
   "id": "f8d5df0b",
   "metadata": {},
   "outputs": [],
   "source": [
    "# We'll need the random module for this\n",
    "import random\n",
    "\n",
    "def add_noise(x, mu, sd):\n",
    "    \"\"\"\n",
    "    Adds gaussian noise to the input.\n",
    "    \n",
    "    Parameters\n",
    "    ----------\n",
    "    x : number\n",
    "        The number to add noise to\n",
    "    mu : float\n",
    "        the mean of the gaussian noise distribution\n",
    "    sd : float\n",
    "        The standard deviation of the noise distribution\n",
    "    \"\"\"\n",
    "    noisy = random.normalvariate(mu, sd) + x\n",
    "    return noisy"
   ]
  },
  {
   "cell_type": "code",
   "execution_count": null,
   "id": "30ca77bf",
   "metadata": {},
   "outputs": [],
   "source": [
    "x = add_noise(10, 0, 1)\n",
    "print(x)"
   ]
  },
  {
   "cell_type": "code",
   "execution_count": null,
   "id": "1678dd36",
   "metadata": {},
   "outputs": [],
   "source": [
    "def add_noise_with_defaults(x, mu=0, sd=1):\n",
    "    \"\"\"\n",
    "    Adds gaussian noise to the input.\n",
    "    \n",
    "    Parameters\n",
    "    ----------\n",
    "    x : number\n",
    "        The number to add noise to\n",
    "    mu : float, optional\n",
    "        the mean of the gaussian noise distribution. Default: 0\n",
    "    sd : float, optional\n",
    "        The standard deviation of the noise distribution. Default: 1\n",
    "    \"\"\"\n",
    "    noisy = random.normalvariate(mu, sd) + x\n",
    "    return noisy"
   ]
  },
  {
   "cell_type": "code",
   "execution_count": null,
   "id": "9b675403",
   "metadata": {},
   "outputs": [],
   "source": [
    "add_noise_with_defaults(10, 10, 10)"
   ]
  },
  {
   "cell_type": "code",
   "execution_count": null,
   "id": "0022e063",
   "metadata": {},
   "outputs": [],
   "source": [
    "%time 2*2"
   ]
  },
  {
   "cell_type": "code",
   "execution_count": null,
   "id": "ae8b8043",
   "metadata": {},
   "outputs": [],
   "source": [
    "# Average time running the code\n",
    "%timeit 2 * 2"
   ]
  },
  {
   "cell_type": "code",
   "execution_count": 3,
   "id": "21ca221f",
   "metadata": {},
   "outputs": [
    {
     "name": "stdout",
     "output_type": "stream",
     "text": [
      "\u001b[0;31mSignature:\u001b[0m \u001b[0mnumpy\u001b[0m\u001b[0;34m.\u001b[0m\u001b[0mreshape\u001b[0m\u001b[0;34m(\u001b[0m\u001b[0ma\u001b[0m\u001b[0;34m,\u001b[0m \u001b[0mnewshape\u001b[0m\u001b[0;34m,\u001b[0m \u001b[0morder\u001b[0m\u001b[0;34m=\u001b[0m\u001b[0;34m'C'\u001b[0m\u001b[0;34m)\u001b[0m\u001b[0;34m\u001b[0m\u001b[0;34m\u001b[0m\u001b[0m\n",
      "\u001b[0;31mDocstring:\u001b[0m\n",
      "Gives a new shape to an array without changing its data.\n",
      "\n",
      "Parameters\n",
      "----------\n",
      "a : array_like\n",
      "    Array to be reshaped.\n",
      "newshape : int or tuple of ints\n",
      "    The new shape should be compatible with the original shape. If\n",
      "    an integer, then the result will be a 1-D array of that length.\n",
      "    One shape dimension can be -1. In this case, the value is\n",
      "    inferred from the length of the array and remaining dimensions.\n",
      "order : {'C', 'F', 'A'}, optional\n",
      "    Read the elements of `a` using this index order, and place the\n",
      "    elements into the reshaped array using this index order.  'C'\n",
      "    means to read / write the elements using C-like index order,\n",
      "    with the last axis index changing fastest, back to the first\n",
      "    axis index changing slowest. 'F' means to read / write the\n",
      "    elements using Fortran-like index order, with the first index\n",
      "    changing fastest, and the last index changing slowest. Note that\n",
      "    the 'C' and 'F' options take no account of the memory layout of\n",
      "    the underlying array, and only refer to the order of indexing.\n",
      "    'A' means to read / write the elements in Fortran-like index\n",
      "    order if `a` is Fortran *contiguous* in memory, C-like order\n",
      "    otherwise.\n",
      "\n",
      "Returns\n",
      "-------\n",
      "reshaped_array : ndarray\n",
      "    This will be a new view object if possible; otherwise, it will\n",
      "    be a copy.  Note there is no guarantee of the *memory layout* (C- or\n",
      "    Fortran- contiguous) of the returned array.\n",
      "\n",
      "See Also\n",
      "--------\n",
      "ndarray.reshape : Equivalent method.\n",
      "\n",
      "Notes\n",
      "-----\n",
      "It is not always possible to change the shape of an array without\n",
      "copying the data. If you want an error to be raised when the data is copied,\n",
      "you should assign the new shape to the shape attribute of the array::\n",
      "\n",
      " >>> a = np.zeros((10, 2))\n",
      "\n",
      " # A transpose makes the array non-contiguous\n",
      " >>> b = a.T\n",
      "\n",
      " # Taking a view makes it possible to modify the shape without modifying\n",
      " # the initial object.\n",
      " >>> c = b.view()\n",
      " >>> c.shape = (20)\n",
      " Traceback (most recent call last):\n",
      "    ...\n",
      " AttributeError: Incompatible shape for in-place modification. Use\n",
      " `.reshape()` to make a copy with the desired shape.\n",
      "\n",
      "The `order` keyword gives the index ordering both for *fetching* the values\n",
      "from `a`, and then *placing* the values into the output array.\n",
      "For example, let's say you have an array:\n",
      "\n",
      ">>> a = np.arange(6).reshape((3, 2))\n",
      ">>> a\n",
      "array([[0, 1],\n",
      "       [2, 3],\n",
      "       [4, 5]])\n",
      "\n",
      "You can think of reshaping as first raveling the array (using the given\n",
      "index order), then inserting the elements from the raveled array into the\n",
      "new array using the same kind of index ordering as was used for the\n",
      "raveling.\n",
      "\n",
      ">>> np.reshape(a, (2, 3)) # C-like index ordering\n",
      "array([[0, 1, 2],\n",
      "       [3, 4, 5]])\n",
      ">>> np.reshape(np.ravel(a), (2, 3)) # equivalent to C ravel then C reshape\n",
      "array([[0, 1, 2],\n",
      "       [3, 4, 5]])\n",
      ">>> np.reshape(a, (2, 3), order='F') # Fortran-like index ordering\n",
      "array([[0, 4, 3],\n",
      "       [2, 1, 5]])\n",
      ">>> np.reshape(np.ravel(a, order='F'), (2, 3), order='F')\n",
      "array([[0, 4, 3],\n",
      "       [2, 1, 5]])\n",
      "\n",
      "Examples\n",
      "--------\n",
      ">>> a = np.array([[1,2,3], [4,5,6]])\n",
      ">>> np.reshape(a, 6)\n",
      "array([1, 2, 3, 4, 5, 6])\n",
      ">>> np.reshape(a, 6, order='F')\n",
      "array([1, 4, 2, 5, 3, 6])\n",
      "\n",
      ">>> np.reshape(a, (3,-1))       # the unspecified value is inferred to be 2\n",
      "array([[1, 2],\n",
      "       [3, 4],\n",
      "       [5, 6]])\n",
      "\u001b[0;31mFile:\u001b[0m      ~/opt/anaconda3/lib/python3.9/site-packages/numpy/core/fromnumeric.py\n",
      "\u001b[0;31mType:\u001b[0m      function"
     ]
    }
   ],
   "source": [
    "# Import numpy and get the help documentation for reshape\n",
    "import numpy\n",
    "numpy.reshape?"
   ]
  },
  {
   "cell_type": "code",
   "execution_count": null,
   "id": "222b752a",
   "metadata": {},
   "outputs": [],
   "source": [
    "# By convention, we assign numpy to the variable np for brevity\n",
    "import numpy as np"
   ]
  },
  {
   "cell_type": "code",
   "execution_count": null,
   "id": "4b5be662",
   "metadata": {},
   "outputs": [],
   "source": [
    "# Create an empty 10 x 10 array of zeros\n",
    "array_zeros = np.zeros(shape=(10,10))\n",
    "print(array_zeros)"
   ]
  },
  {
   "cell_type": "code",
   "execution_count": null,
   "id": "884c8dbb",
   "metadata": {},
   "outputs": [],
   "source": [
    "# Inspect the array: what can we learn about its dimentionality?\n",
    "print(array_zeros.shape)"
   ]
  },
  {
   "cell_type": "code",
   "execution_count": null,
   "id": "a68e9076",
   "metadata": {},
   "outputs": [],
   "source": [
    "# Its data type?\n",
    "print(array_zeros.dtype)"
   ]
  },
  {
   "cell_type": "code",
   "execution_count": null,
   "id": "d6182152",
   "metadata": {},
   "outputs": [],
   "source": [
    "# Create a 1D numpy array with values 0 through 999\n",
    "array_1d = np.arange(0,1000)\n",
    "array_1d"
   ]
  },
  {
   "cell_type": "code",
   "execution_count": null,
   "id": "c3e126df",
   "metadata": {
    "scrolled": false
   },
   "outputs": [],
   "source": [
    "# Reshape our array to 100 x 10\n",
    "array_2d = np.reshape(array_1d, (100,10))\n",
    "array_2d"
   ]
  },
  {
   "cell_type": "code",
   "execution_count": null,
   "id": "8751f533",
   "metadata": {},
   "outputs": [],
   "source": [
    "# Multiply every value in our array by 2\n",
    "array_times_2 = array_2d * 2\n",
    "array_times_2"
   ]
  },
  {
   "cell_type": "code",
   "execution_count": null,
   "id": "4a80923a",
   "metadata": {},
   "outputs": [],
   "source": [
    "# Innspect the first 2 elements of each of the first five rows\n",
    "array_times_2[:5, :2]"
   ]
  },
  {
   "cell_type": "code",
   "execution_count": null,
   "id": "a69e0d6f",
   "metadata": {},
   "outputs": [],
   "source": [
    "original = np.copy(array_times_2)\n",
    "original"
   ]
  },
  {
   "cell_type": "code",
   "execution_count": null,
   "id": "2bfa0af8",
   "metadata": {},
   "outputs": [],
   "source": [
    "# Load the dataset at https://bit.ly/nds-python-pure\n",
    "data = np.loadtxt('https://bit.ly/nds-python-pure')\n",
    "print(data)\n",
    "print(data.shape)\n",
    "print(data.dtype)"
   ]
  },
  {
   "cell_type": "code",
   "execution_count": null,
   "id": "c8970d75",
   "metadata": {},
   "outputs": [],
   "source": [
    "# Take the mean of the data array\n",
    "print(data.mean())\n",
    "print(np.mean(data))"
   ]
  },
  {
   "cell_type": "code",
   "execution_count": null,
   "id": "82fd92b0",
   "metadata": {},
   "outputs": [],
   "source": [
    "# Take the mean across the *first axis* (i.e., the mean across rows)\n",
    "data.mean(axis=0)"
   ]
  },
  {
   "cell_type": "code",
   "execution_count": null,
   "id": "67fa5311",
   "metadata": {},
   "outputs": [],
   "source": [
    "# Standard deviation\n",
    "print(data.std(axis=0))"
   ]
  },
  {
   "cell_type": "code",
   "execution_count": null,
   "id": "22ce9b75",
   "metadata": {},
   "outputs": [],
   "source": [
    "# Minimum\n",
    "print(data.min(axis=0))"
   ]
  },
  {
   "cell_type": "code",
   "execution_count": null,
   "id": "2d65d7bd",
   "metadata": {},
   "outputs": [],
   "source": [
    "# Maximum\n",
    "print(data.max(axis=0))"
   ]
  },
  {
   "cell_type": "code",
   "execution_count": null,
   "id": "0f21ff85",
   "metadata": {},
   "outputs": [],
   "source": [
    "# Calculate the 2.5 SD +/- range of the data\n",
    "first_column = data[:, 0]\n",
    "low = first_column.mean() - (first_column.std()*2.5)\n",
    "high = first_column.mean() + (first_column.std()*2.5)\n",
    "print(low, high)"
   ]
  },
  {
   "cell_type": "code",
   "execution_count": null,
   "id": "c08c3896",
   "metadata": {},
   "outputs": [],
   "source": [
    "# Create a mask for the outliers\n",
    "mask = np.logical_or(first_column > high, first_column < low)\n",
    "print(mask)"
   ]
  },
  {
   "cell_type": "code",
   "execution_count": null,
   "id": "976e12c4",
   "metadata": {},
   "outputs": [],
   "source": [
    "# Mask the data and check the values in the first column that are \"outliers\"\n",
    "first_column[mask]"
   ]
  },
  {
   "cell_type": "code",
   "execution_count": null,
   "id": "bff019d5",
   "metadata": {},
   "outputs": [],
   "source": [
    "# Modify data and save to disk\n",
    "modified_data = data * 2\n",
    "np.savetxt('modified_data.csv', modified_data)"
   ]
  },
  {
   "cell_type": "code",
   "execution_count": null,
   "id": "cec2750b",
   "metadata": {},
   "outputs": [],
   "source": [
    "# Check that the file was created!\n",
    "! ls -lF modified_data.csv"
   ]
  },
  {
   "cell_type": "code",
   "execution_count": null,
   "id": "7bbd0235",
   "metadata": {},
   "outputs": [],
   "source": [
    "# Load https://bit.ly/nds-python-mixed\n",
    "data = np.loadtxt('https://bit.ly/nds-python-mixed', dtype=str)\n",
    "print(data)"
   ]
  },
  {
   "cell_type": "code",
   "execution_count": null,
   "id": "70ae0f37",
   "metadata": {},
   "outputs": [],
   "source": [
    "# Check the loaded array's shape:\n",
    "print(data.shape)"
   ]
  },
  {
   "cell_type": "code",
   "execution_count": null,
   "id": "a5776b7d",
   "metadata": {},
   "outputs": [],
   "source": [
    "# The columns are separated by semi-colons: we need to specify _that_, too!\n",
    "data = np.loadtxt('https://bit.ly/nds-python-mixed', dtype = str, delimiter = ';')\n",
    "print(data.shape)\n",
    "print(data)"
   ]
  },
  {
   "cell_type": "code",
   "execution_count": null,
   "id": "9de49cda",
   "metadata": {},
   "outputs": [],
   "source": [
    "# Grand mean of the data\n",
    "print(data.dtype)"
   ]
  },
  {
   "cell_type": "code",
   "execution_count": null,
   "id": "e0edf2a6",
   "metadata": {},
   "outputs": [],
   "source": [
    "# Import pandas and load https://bit.ly/nds-python-mixed\n",
    "import pandas as pd\n",
    "data = pd.read_csv('https://bit.ly/nds-python-mixed', delimiter = ';')\n",
    "print(type(data))"
   ]
  },
  {
   "cell_type": "code",
   "execution_count": null,
   "id": "87f73d71",
   "metadata": {},
   "outputs": [],
   "source": [
    "# Sneak peek at the first five rows of the data frame\n",
    "data.head()"
   ]
  },
  {
   "cell_type": "code",
   "execution_count": null,
   "id": "d7dcd8db",
   "metadata": {},
   "outputs": [],
   "source": [
    "# Selecting one column:\n",
    "hair = data[\"Hair\"]\n",
    "hair.head()"
   ]
  },
  {
   "cell_type": "code",
   "execution_count": null,
   "id": "2c53b915",
   "metadata": {},
   "outputs": [],
   "source": [
    "# Selecting multiple columns:\n",
    "hair_and_fsiq = data[[\"Hair\",\"FSIQ\"]]\n",
    "print(hair_and_fsiq.head())\n",
    "print(type(hair))\n",
    "print(type(hair_and_fsiq))"
   ]
  },
  {
   "cell_type": "code",
   "execution_count": null,
   "id": "74aea990",
   "metadata": {},
   "outputs": [],
   "source": [
    "# We can specify the index when we load the data\n",
    "data = pd.read_csv('https://bit.ly/nds-python-mixed', delimiter=';', index_col = 0)\n",
    "data.head()"
   ]
  },
  {
   "cell_type": "code",
   "execution_count": null,
   "id": "ec1e26c9",
   "metadata": {},
   "outputs": [],
   "source": [
    "# But we can also set the index directly, too:\n",
    "data.index = ['participant_{}'.format(n+1) for n in range(len(data))]\n",
    "data.head()"
   ]
  },
  {
   "cell_type": "code",
   "execution_count": null,
   "id": "dfdcdc89",
   "metadata": {},
   "outputs": [],
   "source": [
    "# Select participant number 10\n",
    "data.loc['participant_10', 'Hair']"
   ]
  },
  {
   "cell_type": "code",
   "execution_count": null,
   "id": "cc9b5ced",
   "metadata": {},
   "outputs": [],
   "source": [
    "# Taking the mean of the data\n",
    "data.mean()"
   ]
  },
  {
   "cell_type": "code",
   "execution_count": null,
   "id": "9cfad620",
   "metadata": {},
   "outputs": [],
   "source": [
    "# We can also use a special dataframe method to get a lot of stats quickly:\n",
    "data.describe()"
   ]
  },
  {
   "cell_type": "code",
   "execution_count": null,
   "id": "86c02069",
   "metadata": {},
   "outputs": [],
   "source": [
    "# Check the data type of Weight and Hight\n",
    "print(data['Weight'].dtype, data['Height'].dtype)"
   ]
  },
  {
   "cell_type": "code",
   "execution_count": null,
   "id": "d275063e",
   "metadata": {},
   "outputs": [],
   "source": [
    "# Check the Weight column\n",
    "print(data['Weight'])"
   ]
  },
  {
   "cell_type": "code",
   "execution_count": null,
   "id": "297f3ca3",
   "metadata": {},
   "outputs": [],
   "source": [
    "# Replace '.' with NaN\n",
    "data = data.replace('.', np.nan)\n",
    "data.head()"
   ]
  },
  {
   "cell_type": "code",
   "execution_count": null,
   "id": "111abeaa",
   "metadata": {},
   "outputs": [],
   "source": [
    "# Re-check the data type of Weight and Height\n",
    "print(data['Weight'].dtype, data['Height'].dtype)"
   ]
  },
  {
   "cell_type": "code",
   "execution_count": null,
   "id": "8236dbfc",
   "metadata": {},
   "outputs": [],
   "source": [
    "# Cast Weight and Height to float\n",
    "data['Weight'].astype(float)\n",
    "data['Height'].astype(float)"
   ]
  },
  {
   "cell_type": "code",
   "execution_count": null,
   "id": "1b103c27",
   "metadata": {},
   "outputs": [],
   "source": [
    "# Reload data specifying `na_values` and check Weight/Height dtype\n",
    "data = pd.read_csv('https://bit.ly/nds-python-mixed', delimiter=';', index_col=0, na_values='.')\n",
    "data.head()"
   ]
  },
  {
   "cell_type": "code",
   "execution_count": null,
   "id": "d9975513",
   "metadata": {},
   "outputs": [],
   "source": [
    "# Now Weight + Height should be included in our \"describe\" method:\n",
    "data.describe()"
   ]
  },
  {
   "cell_type": "code",
   "execution_count": null,
   "id": "9a7a20d0",
   "metadata": {},
   "outputs": [],
   "source": []
  }
 ],
 "metadata": {
  "kernelspec": {
   "display_name": "Python 3 (ipykernel)",
   "language": "python",
   "name": "python3"
  },
  "language_info": {
   "codemirror_mode": {
    "name": "ipython",
    "version": 3
   },
   "file_extension": ".py",
   "mimetype": "text/x-python",
   "name": "python",
   "nbconvert_exporter": "python",
   "pygments_lexer": "ipython3",
   "version": "3.9.13"
  }
 },
 "nbformat": 4,
 "nbformat_minor": 5
}
