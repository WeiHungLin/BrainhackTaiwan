{
 "cells": [
  {
   "attachments": {},
   "cell_type": "markdown",
   "metadata": {},
   "source": [
    "# Introduction to deep learning"
   ]
  },
  {
   "attachments": {},
   "cell_type": "markdown",
   "metadata": {},
   "source": [
    "## The Goal of This Talk\n",
    "- To give a sense of what deep learning is actually good for, and what it's not good for\n",
    "- To give a sense of when deep learning is the right strategy to take in your research\n",
    "\n",
    "## Outline\n",
    "1. No free lunch in AI\n",
    "2. Inductive biases and the AI set\n",
    "3. Deep architectures as a good inductive bias\n",
    "4. Making learning work in deep architectures\n",
    "5. When to use deep learning"
   ]
  },
  {
   "attachments": {},
   "cell_type": "markdown",
   "metadata": {},
   "source": [
    "### No Free Lunch in AI\n"
   ]
  }
 ],
 "metadata": {
  "language_info": {
   "name": "python"
  },
  "orig_nbformat": 4
 },
 "nbformat": 4,
 "nbformat_minor": 2
}
